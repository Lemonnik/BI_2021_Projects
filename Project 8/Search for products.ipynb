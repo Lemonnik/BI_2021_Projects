{
 "cells": [
  {
   "cell_type": "code",
   "execution_count": null,
   "metadata": {},
   "outputs": [],
   "source": []
  },
  {
   "cell_type": "code",
   "execution_count": 2,
   "metadata": {},
   "outputs": [],
   "source": [
    "import pandas as pd"
   ]
  },
  {
   "cell_type": "code",
   "execution_count": 6,
   "metadata": {},
   "outputs": [],
   "source": [
    "df = pd.read_csv('intersect_result.txt', sep='\\t', header=None)"
   ]
  },
  {
   "cell_type": "code",
   "execution_count": 7,
   "metadata": {},
   "outputs": [
    {
     "data": {
      "text/html": [
       "<div>\n",
       "<style scoped>\n",
       "    .dataframe tbody tr th:only-of-type {\n",
       "        vertical-align: middle;\n",
       "    }\n",
       "\n",
       "    .dataframe tbody tr th {\n",
       "        vertical-align: top;\n",
       "    }\n",
       "\n",
       "    .dataframe thead th {\n",
       "        text-align: right;\n",
       "    }\n",
       "</style>\n",
       "<table border=\"1\" class=\"dataframe\">\n",
       "  <thead>\n",
       "    <tr style=\"text-align: right;\">\n",
       "      <th></th>\n",
       "      <th>0</th>\n",
       "      <th>1</th>\n",
       "      <th>2</th>\n",
       "      <th>3</th>\n",
       "      <th>4</th>\n",
       "      <th>5</th>\n",
       "      <th>6</th>\n",
       "      <th>7</th>\n",
       "      <th>8</th>\n",
       "    </tr>\n",
       "  </thead>\n",
       "  <tbody>\n",
       "    <tr>\n",
       "      <th>0</th>\n",
       "      <td>NC_016610.1</td>\n",
       "      <td>RefSeq</td>\n",
       "      <td>gene</td>\n",
       "      <td>106544</td>\n",
       "      <td>107707</td>\n",
       "      <td>.</td>\n",
       "      <td>+</td>\n",
       "      <td>.</td>\n",
       "      <td>ID=gene-BFO_RS00425;Name=BFO_RS00425;gbkey=Gen...</td>\n",
       "    </tr>\n",
       "    <tr>\n",
       "      <th>1</th>\n",
       "      <td>NC_016610.1</td>\n",
       "      <td>Protein Homology</td>\n",
       "      <td>CDS</td>\n",
       "      <td>106544</td>\n",
       "      <td>107707</td>\n",
       "      <td>.</td>\n",
       "      <td>+</td>\n",
       "      <td>0</td>\n",
       "      <td>ID=cds-WP_014223573.1;Parent=gene-BFO_RS00425;...</td>\n",
       "    </tr>\n",
       "    <tr>\n",
       "      <th>2</th>\n",
       "      <td>NC_016610.1</td>\n",
       "      <td>RefSeq</td>\n",
       "      <td>gene</td>\n",
       "      <td>119304</td>\n",
       "      <td>119939</td>\n",
       "      <td>.</td>\n",
       "      <td>+</td>\n",
       "      <td>.</td>\n",
       "      <td>ID=gene-BFO_RS00480;Name=BFO_RS00480;gbkey=Gen...</td>\n",
       "    </tr>\n",
       "    <tr>\n",
       "      <th>3</th>\n",
       "      <td>NC_016610.1</td>\n",
       "      <td>Protein Homology</td>\n",
       "      <td>CDS</td>\n",
       "      <td>119304</td>\n",
       "      <td>119939</td>\n",
       "      <td>.</td>\n",
       "      <td>+</td>\n",
       "      <td>0</td>\n",
       "      <td>ID=cds-WP_041590995.1;Parent=gene-BFO_RS00480;...</td>\n",
       "    </tr>\n",
       "    <tr>\n",
       "      <th>4</th>\n",
       "      <td>NC_016610.1</td>\n",
       "      <td>RefSeq</td>\n",
       "      <td>gene</td>\n",
       "      <td>119936</td>\n",
       "      <td>121180</td>\n",
       "      <td>.</td>\n",
       "      <td>+</td>\n",
       "      <td>.</td>\n",
       "      <td>ID=gene-BFO_RS00485;Name=BFO_RS00485;gbkey=Gen...</td>\n",
       "    </tr>\n",
       "  </tbody>\n",
       "</table>\n",
       "</div>"
      ],
      "text/plain": [
       "             0                 1     2       3       4  5  6  7  \\\n",
       "0  NC_016610.1            RefSeq  gene  106544  107707  .  +  .   \n",
       "1  NC_016610.1  Protein Homology   CDS  106544  107707  .  +  0   \n",
       "2  NC_016610.1            RefSeq  gene  119304  119939  .  +  .   \n",
       "3  NC_016610.1  Protein Homology   CDS  119304  119939  .  +  0   \n",
       "4  NC_016610.1            RefSeq  gene  119936  121180  .  +  .   \n",
       "\n",
       "                                                   8  \n",
       "0  ID=gene-BFO_RS00425;Name=BFO_RS00425;gbkey=Gen...  \n",
       "1  ID=cds-WP_014223573.1;Parent=gene-BFO_RS00425;...  \n",
       "2  ID=gene-BFO_RS00480;Name=BFO_RS00480;gbkey=Gen...  \n",
       "3  ID=cds-WP_041590995.1;Parent=gene-BFO_RS00480;...  \n",
       "4  ID=gene-BFO_RS00485;Name=BFO_RS00485;gbkey=Gen...  "
      ]
     },
     "execution_count": 7,
     "metadata": {},
     "output_type": "execute_result"
    }
   ],
   "source": [
    "df.head()"
   ]
  },
  {
   "cell_type": "code",
   "execution_count": 20,
   "metadata": {},
   "outputs": [
    {
     "name": "stdout",
     "output_type": "stream",
     "text": [
      "product=cell filamentation protein Fic;pseudo=true;\r\n",
      "product=DUF418 domain-containing protein;pseudo=true;\r\n",
      "product=conjugative transposon protein TraN;pseudo=true;start_range=.,3266813;\r\n",
      "product=IS1595 family transposase;pseudo=true;\r\n",
      "product=IS110 family transposase;pseudo=true;\r\n",
      "product=IS1595-like element ISTfo1 family transposase;pseudo=true;\r\n",
      "product=PcfJ domain-containing protein;pseudo=true;start_range=.,2200919;\r\n",
      "product=transposase;pseudo=true;\r\n",
      "product=T9SS type A sorting domain-containing protein;pseudo=true;\r\n",
      "product=conjugative transposon protein TraK;pseudo=true;start_range=.,3266070;\r\n",
      "grep: write error: Broken pipe\r\n"
     ]
    }
   ],
   "source": [
    "!cut -f 9 intersect_result.txt | sort -t \";\" -k 1 -u | grep -o \"product=.*\\?;\" | head"
   ]
  },
  {
   "cell_type": "code",
   "execution_count": null,
   "metadata": {},
   "outputs": [],
   "source": []
  },
  {
   "cell_type": "code",
   "execution_count": 24,
   "metadata": {},
   "outputs": [
    {
     "name": "stdout",
     "output_type": "stream",
     "text": [
      "      7 helix-turn-helix domain-containing protein\r\n",
      "     78 hypothetical protein\r\n",
      "      6 IS1595 family transposase\r\n",
      "      5 transposase\r\n",
      "      5 IS1 family transposase\r\n",
      "      4 IS110 family transposase\r\n",
      "      3 ISL3 family transposase\r\n",
      "      3 IS1380 family transposase\r\n",
      "      3 6-bladed beta-propeller\r\n",
      "      2 PcfJ domain-containing protein\r\n",
      "      2 NVEALA domain-containing protein\r\n",
      "      2 IS4 family transposase\r\n",
      "      2 DUF3872 domain-containing protein\r\n",
      "      2 DUF3408 domain-containing protein\r\n",
      "      2 conjugative transposon protein TraN\r\n",
      "      2 conjugative transposon protein TraK\r\n",
      "      2 conjugal transfer protein TraO\r\n",
      "      2 ATP-binding protein\r\n",
      "      1 Z1 domain-containing protein\r\n",
      "      1 very short patch repair endonuclease\r\n",
      "      1 TraL conjugative transposon family protein\r\n",
      "      1 toprim domain-containing protein\r\n",
      "      1 TonB-dependent receptor family protein\r\n",
      "      1 TIGR04157 family glycosyltransferase\r\n",
      "      1 TIGR04150 pseudo-rSAM protein\r\n",
      "      1 thiopeptide-type bacteriocin biosynthesis protein\r\n",
      "      1 tetracycline resistance ribosomal protection protein\r\n",
      "      1 TetR/AcrR family transcriptional regulator\r\n",
      "      1 T9SS type A sorting domain-containing protein\r\n",
      "      1 SusD/RagB family nutrient-binding outer membrane lipoprotein\r\n",
      "      1 SPASM domain-containing protein\r\n",
      "      1 site-specific integrase\r\n",
      "      1 sigma-54 dependent transcriptional regulator\r\n",
      "      1 RteC domain-containing protein\r\n",
      "      1 rhodanese-like domain-containing protein\r\n",
      "      1 relaxase/mobilization nuclease domain-containing protein\r\n",
      "      1 radical SAM peptide maturase\r\n",
      "      1 putative DNA binding domain-containing protein\r\n",
      "      1 phosphorylase family\r\n",
      "      1 PH domain-containing protein\r\n",
      "      1 phage integrase SAM-like domain-containing protein\r\n",
      "      1 PD-(D/E)XK motif protein\r\n",
      "      1 PcfK-like family protein\r\n",
      "      1 ParA family protein\r\n",
      "      1 outer membrane lipoprotein-sorting protein\r\n",
      "      1 nuclear transport factor 2 family protein\r\n",
      "      1 MMPL family transporter\r\n",
      "      1 lysozyme\r\n",
      "      1 lantibiotic dehydratase family protein\r\n",
      "      1 lanthionine synthetase C family protein\r\n",
      "      1 IS1595-like element ISTfo1 family transposase\r\n",
      "      1 histidinol phosphate phosphatase\r\n",
      "      1 helicase\r\n",
      "      1 GNAT family N-acetyltransferase\r\n",
      "      1 galactosyltransferase-related protein\r\n",
      "      1 four helix bundle protein\r\n",
      "      1 DVUA0089 family protein\r\n",
      "      1 DUF4974 domain-containing protein\r\n",
      "      1 DUF4372 domain-containing protein\r\n",
      "      1 DUF418 domain-containing protein\r\n",
      "      1 DUF4141 domain-containing protein\r\n",
      "      1 DUF4134 domain-containing protein\r\n",
      "      1 DUF4133 domain-containing protein\r\n",
      "      1 DUF3876 domain-containing protein\r\n",
      "      1 DUF3873 domain-containing protein\r\n",
      "      1 DUF3289 family protein\r\n",
      "      1 DUF1896 domain-containing protein\r\n",
      "      1 DUF1566 domain-containing protein\r\n",
      "      1 dihydrofolate reductase family protein\r\n",
      "      1 conjugative transposon protein TraM\r\n",
      "      1 conjugative transposon protein TraJ\r\n",
      "      1 class I lanthipeptide\r\n",
      "      1 cell filamentation protein Fic\r\n",
      "      1 beta-ketoacyl-ACP synthase III\r\n",
      "      1 antirestriction protein ArdA\r\n",
      "      1 AIPR family protein\r\n",
      "      1 Abi family protein\r\n"
     ]
    }
   ],
   "source": [
    "!cut -f 9 intersect_result.txt | sort -t \";\" -k 1 -u | grep -o \"product=.*\\?;\" | \\\n",
    "sed \"s/product=//\" | cut -f 1 -d \";\" | sort | uniq -c | sort -r #> products.txt"
   ]
  },
  {
   "cell_type": "code",
   "execution_count": null,
   "metadata": {},
   "outputs": [],
   "source": []
  },
  {
   "cell_type": "code",
   "execution_count": null,
   "metadata": {},
   "outputs": [],
   "source": []
  }
 ],
 "metadata": {
  "kernelspec": {
   "display_name": "Python 3",
   "language": "python",
   "name": "python3"
  },
  "language_info": {
   "codemirror_mode": {
    "name": "ipython",
    "version": 3
   },
   "file_extension": ".py",
   "mimetype": "text/x-python",
   "name": "python",
   "nbconvert_exporter": "python",
   "pygments_lexer": "ipython3",
   "version": "3.8.10"
  }
 },
 "nbformat": 4,
 "nbformat_minor": 2
}
