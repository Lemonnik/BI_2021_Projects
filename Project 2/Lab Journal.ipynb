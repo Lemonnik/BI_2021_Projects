{
 "cells": [
  {
   "cell_type": "markdown",
   "metadata": {},
   "source": [
    "Краткое инфо по проекту для меня-будущего:<br>\n",
    "* Есть быстромутирующий вирус, мы можем найти редкие мутации (которые появляются, но всего лишь в <1% ридов после секвенирования). Как отличить мутацию от ошибки секвенирования? <br>\n",
    "* Берём контрольные образцы (100% чистый кусок вируса, встроенный в плазмиду и несколько раз секвенированный) $-$ мы стопроц уверены в их последовательности, а значит все \"редкие мутации\", которые мы найдём в контролях $-$ это ошибки метода. <br>\n",
    "* Сравниваем те редкие мутации, которые мы нашли в real-world данных с редкими мутациями из контрольных образцов. Отсеиваем лишние. Как сравнивать? Например по частоте (напр., в контрольных образцах все редкие мутации будут с частотой 0.25%, а в real-world данных чуть чаще (0.8%))"
   ]
  },
  {
   "cell_type": "markdown",
   "metadata": {},
   "source": [
    "$~$"
   ]
  },
  {
   "cell_type": "markdown",
   "metadata": {},
   "source": [
    "$~$\n",
    "P.S. Если вы нашли какой-то интересный метод отличать ошибки от редких мутаций -- напишите его пожалуйста в рецензии, я буду очень благодарен! <з"
   ]
  },
  {
   "cell_type": "markdown",
   "metadata": {},
   "source": [
    "$~$"
   ]
  },
  {
   "cell_type": "markdown",
   "metadata": {},
   "source": [
    "## 1. Inspect the data from your roommate"
   ]
  },
  {
   "cell_type": "code",
   "execution_count": 1,
   "metadata": {},
   "outputs": [
    {
     "name": "stdout",
     "output_type": "stream",
     "text": [
      "--2021-10-24 16:44:46--  http://ftp.sra.ebi.ac.uk/vol1/fastq/SRR170/001/SRR1705851/SRR1705851.fastq.gz\n",
      "Resolving ftp.sra.ebi.ac.uk (ftp.sra.ebi.ac.uk)... 193.62.197.74\n",
      "Connecting to ftp.sra.ebi.ac.uk (ftp.sra.ebi.ac.uk)|193.62.197.74|:80... connected.\n",
      "HTTP request sent, awaiting response... 200 OK\n",
      "Length: 19217176 (18M) [application/octet-stream]\n",
      "Saving to: ‘SRR1705851.fastq.gz’\n",
      "\n",
      "SRR1705851.fastq.gz   5%[>                   ]   1,00M   333KB/s    in 56s     \n",
      "\n",
      "2021-10-24 16:45:43 (18,2 KB/s) - Connection closed at byte 1048576. Retrying.\n",
      "\n",
      "--2021-10-24 16:45:44--  (try: 2)  http://ftp.sra.ebi.ac.uk/vol1/fastq/SRR170/001/SRR1705851/SRR1705851.fastq.gz\n",
      "Connecting to ftp.sra.ebi.ac.uk (ftp.sra.ebi.ac.uk)|193.62.197.74|:80... connected.\n",
      "HTTP request sent, awaiting response... 206 Partial Content\n",
      "Length: 19217176 (18M), 18168600 (17M) remaining [application/octet-stream]\n",
      "Saving to: ‘SRR1705851.fastq.gz’\n",
      "\n",
      "SRR1705851.fastq.gz 100%[+==================>]  18,33M   748KB/s    in 88s     \n",
      "\n",
      "2021-10-24 16:47:12 (202 KB/s) - ‘SRR1705851.fastq.gz’ saved [19217176/19217176]\n",
      "\n",
      "--2021-10-24 16:47:12--  http://raw_data/\n",
      "Resolving raw_data (raw_data)... failed: Temporary failure in name resolution.\n",
      "wget: unable to resolve host address ‘raw_data’\n",
      "FINISHED --2021-10-24 16:47:12--\n",
      "Total wall clock time: 2m 26s\n",
      "Downloaded: 1 files, 17M in 2m 24s (123 KB/s)\n"
     ]
    }
   ],
   "source": [
    "# download roommate's reads\n",
    "!wget -c http://ftp.sra.ebi.ac.uk/vol1/fastq/SRR170/001/SRR1705851/SRR1705851.fastq.gz"
   ]
  },
  {
   "cell_type": "code",
   "execution_count": 2,
   "metadata": {},
   "outputs": [],
   "source": [
    "# rename to roommate.fastq and move to raw_data/\n",
    "!mv SRR1705851.fastq.gz raw_data/roommate.fastq.gz"
   ]
  },
  {
   "cell_type": "code",
   "execution_count": 3,
   "metadata": {},
   "outputs": [],
   "source": [
    "# unpack (-k for saving .gz file)\n",
    "!gunzip -k raw_data/roommate.fastq.gz"
   ]
  },
  {
   "cell_type": "code",
   "execution_count": 19,
   "metadata": {},
   "outputs": [
    {
     "name": "stdout",
     "output_type": "stream",
     "text": [
      "@SRR1705851.1 1/1\r\n",
      "TTCGTGATTGTTTTCACTATCGTTCCGTTTGGCACTGCATGGTGCCCAAGGCACAGCGTTGCCGTGCTGTTGTCATTTCCAGGAAGTTTTTGAGCGAAAACCAGACATAGAATGTAGCTCAAAGCAATGATAGTCTTCATGGTTAATAG\r\n",
      "+\r\n",
      ",<==<<<<A@@@@@@@EEE;CEE+AC>EC;>EFFDC@=A@AE999DDD>>@E777EE75C>EF>EDEEFFFF--AE>EDEEEED=C-58AE=<D=<<DD=D9CDD@EEDED@DEDDE*9;@DDED@@@7@E*;*888@*8;@8@;;@@E\r\n",
      "@SRR1705851.2 2/1\r\n",
      "NATTAACCATGAAGACTATCATTGCTTTGAGCTACATTCTATGTCTGGTTTTCGCTCAAAAACTTCCTGGAAATGACAACAGCACGGCAACGCTGTGCCTTGGGCACCATGCAGTGCCAAACGGAACGATAGTGAAAACAATCACGAATGA\r\n",
      "+\r\n",
      "#5<???BBEEEDEDDDGGGGGGIIIIIIIIIIIIIIIIIIIIIHIIIIFHHIIHHHHHIIIIHIIIIIIIHIIIIIIIIIIIIIIHHHHHHHHHHEHHHHHFFHHHHHHFFHHGFGGGGGGGGGGGGGEEEGCEEGGGGGEEGGGGCGEGG\r\n",
      "@SRR1705851.3 3/1\r\n",
      "GTTTGGCACTGCATGGTGCCCAAGGCACAGCGTTGCCGTGCTGTTGTCATTTCCAGGAAGTTTTTGAGCGAAAACCAGACATAGAATGTAGCTCAAAGCAATGATAGTCTTCATGGTTAATAG\r\n"
     ]
    }
   ],
   "source": [
    "# visual check\n",
    "!head -10 raw_data/roommate.fastq"
   ]
  },
  {
   "cell_type": "code",
   "execution_count": 20,
   "metadata": {},
   "outputs": [
    {
     "name": "stdout",
     "output_type": "stream",
     "text": [
      "Started analysis of roommate.fastq\n",
      "Approx 5% complete for roommate.fastq\n",
      "Approx 10% complete for roommate.fastq\n",
      "Approx 15% complete for roommate.fastq\n",
      "Approx 20% complete for roommate.fastq\n",
      "Approx 25% complete for roommate.fastq\n",
      "Approx 30% complete for roommate.fastq\n",
      "Approx 35% complete for roommate.fastq\n",
      "Approx 40% complete for roommate.fastq\n",
      "Approx 45% complete for roommate.fastq\n",
      "Approx 50% complete for roommate.fastq\n",
      "Approx 55% complete for roommate.fastq\n",
      "Approx 60% complete for roommate.fastq\n",
      "Approx 65% complete for roommate.fastq\n",
      "Approx 70% complete for roommate.fastq\n",
      "Approx 75% complete for roommate.fastq\n",
      "Approx 80% complete for roommate.fastq\n",
      "Approx 85% complete for roommate.fastq\n",
      "Approx 90% complete for roommate.fastq\n",
      "Approx 95% complete for roommate.fastq\n",
      "Analysis complete for roommate.fastq\n"
     ]
    }
   ],
   "source": [
    "#\n",
    "!mkdir 1_fastqc\n",
    "!cp raw_data/roommate.fastq 1_fastqc/\n",
    "# ...check reads' quality\n",
    "!fastqc 1_fastqc/roommate.fastq"
   ]
  },
  {
   "cell_type": "markdown",
   "metadata": {},
   "source": [
    "#### Results of checking reads quality:\n",
    "* Quality is good;\n",
    "* Read len ~35-151 b.p.;\n",
    "* Total 358265 reads;\n",
    "* GC-content 42%"
   ]
  },
  {
   "cell_type": "code",
   "execution_count": 23,
   "metadata": {},
   "outputs": [
    {
     "name": "stdout",
     "output_type": "stream",
     "text": [
      ".:\r\n",
      "\u001b[0m\u001b[01;34m1_fastqc\u001b[0m\u001b[K\r\n",
      "Lab_Notebook.ipynb\r\n",
      "\u001b[01;34mraw_data\u001b[0m\u001b[K\r\n",
      "\u001b[01;31mVarScan.v2.3.9.jar\u001b[0m\u001b[K\r\n",
      "\r\n",
      "./1_fastqc:\r\n",
      "roommate.fastq\r\n",
      "roommate_fastqc.html\r\n",
      "\u001b[01;31mroommate_fastqc.zip\u001b[0m\u001b[K\r\n",
      "\r\n",
      "./raw_data:\r\n",
      "roommate.fastq\r\n",
      "\u001b[01;31mroommate.fastq.gz\u001b[0m\u001b[K\r\n"
     ]
    }
   ],
   "source": [
    "# file structure\n",
    "!ls --width=1 -R --color=always"
   ]
  },
  {
   "cell_type": "markdown",
   "metadata": {},
   "source": [
    "$~$"
   ]
  },
  {
   "cell_type": "markdown",
   "metadata": {},
   "source": [
    "## 2. Align your roommate’s data to the reference sequence"
   ]
  },
  {
   "cell_type": "markdown",
   "metadata": {},
   "source": [
    "Download reference gene manually from [Influenza A virus segment 4 hemagglutinin (HA) gene](https://www.ncbi.nlm.nih.gov/nuccore/KF848938.1?report=fasta) (raw_data/ref_seq.fasta)  "
   ]
  },
  {
   "cell_type": "code",
   "execution_count": 52,
   "metadata": {},
   "outputs": [],
   "source": [
    "# work in 2_indexed_ref_seq/\n",
    "!mkdir 2.1_indexed_ref_seq\n",
    "!cp raw_data/ref_seq.fasta 2_indexed_ref_seq"
   ]
  },
  {
   "cell_type": "code",
   "execution_count": 53,
   "metadata": {},
   "outputs": [
    {
     "name": "stdout",
     "output_type": "stream",
     "text": [
      "[bwa_index] Pack FASTA... 0.00 sec\n",
      "[bwa_index] Construct BWT for the packed sequence...\n",
      "[bwa_index] 0.00 seconds elapse.\n",
      "[bwa_index] Update BWT... 0.00 sec\n",
      "[bwa_index] Pack forward-only FASTA... 0.00 sec\n",
      "[bwa_index] Construct SA from BWT and Occ... 0.00 sec\n",
      "[main] Version: 0.7.17-r1188\n",
      "[main] CMD: bwa index 2_indexed_ref_seq/ref_seq.fasta\n",
      "[main] Real time: 0.669 sec; CPU: 0.003 sec\n"
     ]
    }
   ],
   "source": [
    "# INDEX file with reference gene\n",
    "!bwa index 2.1_indexed_ref_seq/ref_seq.fasta"
   ]
  },
  {
   "cell_type": "code",
   "execution_count": 54,
   "metadata": {},
   "outputs": [
    {
     "name": "stdout",
     "output_type": "stream",
     "text": [
      "[M::bwa_idx_load_from_disk] read 0 ALT contigs\n",
      "[M::process] read 68388 sequences (10000129 bp)...\n",
      "[M::process] read 67628 sequences (10000233 bp)...\n",
      "[M::mem_process_seqs] Processed 68388 reads in 2.298 CPU sec, 2.233 real sec\n",
      "[M::process] read 67698 sequences (10000046 bp)...\n",
      "[M::mem_process_seqs] Processed 67628 reads in 1.750 CPU sec, 1.634 real sec\n",
      "[M::process] read 67652 sequences (10000169 bp)...\n",
      "[M::mem_process_seqs] Processed 67698 reads in 2.309 CPU sec, 2.199 real sec\n",
      "[M::process] read 68072 sequences (10000295 bp)...\n",
      "[M::mem_process_seqs] Processed 67652 reads in 2.406 CPU sec, 2.307 real sec\n",
      "[M::process] read 18827 sequences (2716992 bp)...\n",
      "[M::mem_process_seqs] Processed 68072 reads in 1.980 CPU sec, 1.943 real sec\n",
      "[M::mem_process_seqs] Processed 18827 reads in 0.963 CPU sec, 0.946 real sec\n",
      "[main] Version: 0.7.17-r1188\n",
      "[main] CMD: bwa mem 2.1_indexed_ref_seq/ref_seq.fasta roommate.fastq\n",
      "[main] Real time: 11.483 sec; CPU: 11.794 sec\n"
     ]
    }
   ],
   "source": [
    "# 1. bwa mem:       get alignment from indexed reference gene (.sam)\n",
    "# 2. samtools view: compress alignment (.sam > .bam)\n",
    "# 3. samtools sort: sort compressed alignment (.bam) and move it to 2.2_align/\n",
    "\n",
    "!mkdir 2.2_align\n",
    "!bwa mem 2.1_indexed_ref_seq/ref_seq.fasta roommate.fastq | samtools view -S -b - | samtools sort - -o 2.2_align/roommate.bam"
   ]
  },
  {
   "cell_type": "code",
   "execution_count": 55,
   "metadata": {},
   "outputs": [
    {
     "name": "stdout",
     "output_type": "stream",
     "text": [
      "361349 + 0 in total (QC-passed reads + QC-failed reads)\r\n",
      "0 + 0 secondary\r\n",
      "3084 + 0 supplementary\r\n",
      "0 + 0 duplicates\r\n",
      "361116 + 0 mapped (99.94% : N/A)\r\n",
      "0 + 0 paired in sequencing\r\n",
      "0 + 0 read1\r\n",
      "0 + 0 read2\r\n",
      "0 + 0 properly paired (N/A : N/A)\r\n",
      "0 + 0 with itself and mate mapped\r\n",
      "0 + 0 singletons (N/A : N/A)\r\n",
      "0 + 0 with mate mapped to a different chr\r\n",
      "0 + 0 with mate mapped to a different chr (mapQ>=5)\r\n"
     ]
    }
   ],
   "source": [
    "# alignment statistics\n",
    "!samtools flagstat 2.2_align/roommate.bam"
   ]
  },
  {
   "cell_type": "markdown",
   "metadata": {},
   "source": [
    "$~$"
   ]
  },
  {
   "cell_type": "markdown",
   "metadata": {},
   "source": [
    "Alignment went pretty good."
   ]
  },
  {
   "cell_type": "markdown",
   "metadata": {},
   "source": [
    "$~$"
   ]
  },
  {
   "cell_type": "code",
   "execution_count": 74,
   "metadata": {},
   "outputs": [],
   "source": [
    "# Index .bam файл (.bam.bai created)\n",
    "!samtools index 2.2_align/roommate.bam"
   ]
  },
  {
   "cell_type": "code",
   "execution_count": 75,
   "metadata": {},
   "outputs": [
    {
     "name": "stdout",
     "output_type": "stream",
     "text": [
      ".:\r\n",
      "\u001b[0m\u001b[01;34m1_fastqc\u001b[0m       \u001b[01;34mraw_data\u001b[0m        \u001b[01;34m2.1_indexed_ref_seq\u001b[0m  \u001b[01;34m2.2_align\u001b[0m\r\n",
      "ref_seq.fasta  roommate.fastq  Lab_Notebook.ipynb   \u001b[01;31mVarScan.v2.3.9.jar\u001b[0m\r\n",
      "\r\n",
      "./1_fastqc:\r\n",
      "roommate.fastq  roommate_fastqc.html  \u001b[01;31mroommate_fastqc.zip\u001b[0m\r\n",
      "\r\n",
      "./raw_data:\r\n",
      "ref_seq.fasta  roommate.fastq  \u001b[01;31mroommate.fastq.gz\u001b[0m\r\n",
      "\r\n",
      "./2.1_indexed_ref_seq:\r\n",
      "ref_seq.fasta.amb  ref_seq.fasta.ann  ref_seq.fasta.bwt  ref_seq.fasta\r\n",
      "ref_seq.fasta.pac  ref_seq.fasta.sa\r\n",
      "\r\n",
      "./2.2_align:\r\n",
      "roommate.bam.bai  roommate.bam\r\n"
     ]
    }
   ],
   "source": [
    "# file structure\n",
    "!ls -R --color=always -X -x"
   ]
  },
  {
   "cell_type": "markdown",
   "metadata": {},
   "source": [
    "$~$"
   ]
  },
  {
   "cell_type": "markdown",
   "metadata": {},
   "source": [
    "## 3. Look for common variants with VarScan"
   ]
  },
  {
   "cell_type": "markdown",
   "metadata": {},
   "source": [
    "Look for high frequency variants... (if 95% reads have a mutation)"
   ]
  },
  {
   "cell_type": "code",
   "execution_count": 76,
   "metadata": {},
   "outputs": [],
   "source": [
    "!mkdir 3_varscan_0.95"
   ]
  },
  {
   "cell_type": "markdown",
   "metadata": {},
   "source": [
    "$~$"
   ]
  },
  {
   "cell_type": "markdown",
   "metadata": {},
   "source": [
    "1665 b.p. in reference gene <br>\n",
    "According to samtools flagstat, there are 361116 mapped reads. <br>\n",
    "Read length ~35-151 (from fastqc).\n",
    "\n",
    "So, coverage is about $\\frac{361116*151}{1665} \\approx 32750$\n",
    "\n",
    "We will use that value as **--max-depth** parameter in **samtools mpileup**."
   ]
  },
  {
   "cell_type": "code",
   "execution_count": 78,
   "metadata": {},
   "outputs": [
    {
     "name": "stdout",
     "output_type": "stream",
     "text": [
      "Only SNPs will be reported\n",
      "Warning: No p-value threshold provided, so p-values will not be calculated\n",
      "Min coverage:\t8\n",
      "Min reads2:\t2\n",
      "Min var freq:\t0.95\n",
      "Min avg qual:\t15\n",
      "P-value thresh:\t0.01\n",
      "[mpileup] 1 samples in 1 input files\n",
      "Input stream not ready, waiting for 5 seconds...\n",
      "Reading input from STDIN\n",
      "1665 bases in pileup file\n",
      "5 variant positions (5 SNP, 0 indel)\n",
      "0 were failed by the strand-filter\n",
      "5 variant positions reported (5 SNP, 0 indel)\n"
     ]
    }
   ],
   "source": [
    "# 1. samtools mpileup: Create intermediate (.mpileup) file with info about how many reads\n",
    "#                      have a mutation at the same position\n",
    "#                      -d -- max per-file depth (8000 by default)\n",
    "#\n",
    "# 2. mpileup2snp:      Review SNPs \n",
    "#                      --min-var-freq -- the minimum % of non-reference bases at a position \n",
    "#                                        required to call it a mutation in the sample\n",
    "#                      --variants     -- only output positions that are above our threshold\n",
    "#                      --output-vcf 1 -- output in .vcf format\n",
    "\n",
    "!samtools mpileup -d 40000 -f ref_seq.fasta 2.2_align/roommate.bam | java -jar VarScan.v2.3.9.jar mpileup2snp --min-var-freq 0.95 --variants --output-vcf 1 > 3_varscan_0.95/VarScan_results_95.vcf"
   ]
  },
  {
   "cell_type": "code",
   "execution_count": 85,
   "metadata": {},
   "outputs": [
    {
     "name": "stdout",
     "output_type": "stream",
     "text": [
      ".:\r\n",
      "\u001b[0m\u001b[01;34m1_fastqc\u001b[0m            \u001b[01;34mraw_data\u001b[0m            \u001b[01;34m2.1_indexed_ref_seq\u001b[0m  \u001b[01;34m2.2_align\u001b[0m\r\n",
      "\u001b[01;34m3_varscan_0.95\u001b[0m      ref_seq.fasta.fai   ref_seq.fasta        roommate.fastq\r\n",
      "Lab_Notebook.ipynb  \u001b[01;31mVarScan.v2.3.9.jar\u001b[0m\r\n",
      "\r\n",
      "./1_fastqc:\r\n",
      "roommate.fastq  roommate_fastqc.html  \u001b[01;31mroommate_fastqc.zip\u001b[0m\r\n",
      "\r\n",
      "./raw_data:\r\n",
      "ref_seq.fasta  roommate.fastq  \u001b[01;31mroommate.fastq.gz\u001b[0m\r\n",
      "\r\n",
      "./2.1_indexed_ref_seq:\r\n",
      "ref_seq.fasta.amb  ref_seq.fasta.ann  ref_seq.fasta.bwt  ref_seq.fasta\r\n",
      "ref_seq.fasta.pac  ref_seq.fasta.sa\r\n",
      "\r\n",
      "./2.2_align:\r\n",
      "roommate.bam.bai  roommate.bam\r\n",
      "\r\n",
      "./3_varscan_0.95:\r\n",
      "VarScan_results_95.vcf\r\n"
     ]
    }
   ],
   "source": [
    "# file structure\n",
    "!ls -R --color=always -X -x"
   ]
  },
  {
   "cell_type": "code",
   "execution_count": 86,
   "metadata": {},
   "outputs": [
    {
     "name": "stdout",
     "output_type": "stream",
     "text": [
      "KF848938.1 72 A G\r\n",
      "KF848938.1 117 C T\r\n",
      "KF848938.1 774 T C\r\n",
      "KF848938.1 999 C T\r\n",
      "KF848938.1 1260 A C\r\n"
     ]
    }
   ],
   "source": [
    "# awk: parsing tool\n",
    "# NR>24  -- print only if the line number is >24 (first 24 lines are not informative)\n",
    "# $1,... -- columns to print\n",
    "\n",
    "!cat 3_varscan_0.95/VarScan_results_95.vcf | awk 'NR>24 {print $1, $2, $4, $5}'"
   ]
  },
  {
   "cell_type": "markdown",
   "metadata": {},
   "source": [
    "$~$"
   ]
  },
  {
   "cell_type": "markdown",
   "metadata": {},
   "source": [
    "Looking at coding frame and amino acids using [ncbi browser](https://www.ncbi.nlm.nih.gov/nuccore/KF848938.1?report=graph)..."
   ]
  },
  {
   "cell_type": "markdown",
   "metadata": {},
   "source": [
    "|  position  |    base change    |       aa change       |\n",
    "|------------|-------------------|-----------------------|\n",
    "|      72    | A $\\rightarrow$ G | Thr $\\rightarrow$ Thr |\n",
    "|     117    | C $\\rightarrow$ T | Ala $\\rightarrow$ Ala |\n",
    "|     774    | T $\\rightarrow$ C | Phe $\\rightarrow$ Phe |\n",
    "|     999    | C $\\rightarrow$ T | Gly $\\rightarrow$ Gly |\n",
    "|    1260    | A $\\rightarrow$ C | Leu $\\rightarrow$ Leu |"
   ]
  },
  {
   "cell_type": "markdown",
   "metadata": {},
   "source": [
    "All substitutions are synonymous (silent).<br>\n",
    "This mutations could not let roommate’s virus to escape the antibodies in my body from the flu vaccine ((9("
   ]
  },
  {
   "cell_type": "markdown",
   "metadata": {},
   "source": [
    "$~$"
   ]
  },
  {
   "cell_type": "markdown",
   "metadata": {},
   "source": [
    "## 4. Look for rare variants with VarScan"
   ]
  },
  {
   "cell_type": "markdown",
   "metadata": {},
   "source": [
    "Now we gonna look for all rare variants (if 0.1% reads have a mutation)."
   ]
  },
  {
   "cell_type": "code",
   "execution_count": 87,
   "metadata": {},
   "outputs": [],
   "source": [
    "!mkdir 4_varscan_0.001"
   ]
  },
  {
   "cell_type": "code",
   "execution_count": 91,
   "metadata": {},
   "outputs": [
    {
     "name": "stdout",
     "output_type": "stream",
     "text": [
      "[mpileup] 1 samples in 1 input files\n",
      "[mpileup] Max depth set to maximum value (2147483647)\n",
      "Only SNPs will be reported\n",
      "Warning: No p-value threshold provided, so p-values will not be calculated\n",
      "Min coverage:\t8\n",
      "Min reads2:\t2\n",
      "Min var freq:\t0.001\n",
      "Min avg qual:\t15\n",
      "P-value thresh:\t0.01\n",
      "Input stream not ready, waiting for 5 seconds...\n",
      "Reading input from STDIN\n",
      "1665 bases in pileup file\n",
      "23 variant positions (21 SNP, 2 indel)\n",
      "0 were failed by the strand-filter\n",
      "21 variant positions reported (21 SNP, 0 indel)\n"
     ]
    }
   ],
   "source": [
    "# -d 0  -- set max depth to maximum possible value\n",
    "!samtools mpileup -d 0 -f ref_seq.fasta 2.2_align/roommate.bam | java -jar VarScan.v2.3.9.jar mpileup2snp --min-var-freq 0.001 --variants --output-vcf 1 > 4_varscan_0.001/VarScan_results_01.vcf"
   ]
  },
  {
   "cell_type": "markdown",
   "metadata": {},
   "source": [
    "$~$"
   ]
  },
  {
   "cell_type": "markdown",
   "metadata": {},
   "source": [
    "We can look at FREQ (variant allele frequency) in the last column of *VarScan_results_01.vcf* file.<br>\n",
    "They are all about $0.17 - 1\\%$ (except described in 3.)."
   ]
  },
  {
   "cell_type": "code",
   "execution_count": 106,
   "metadata": {},
   "outputs": [
    {
     "name": "stdout",
     "output_type": "stream",
     "text": [
      "72 A G 99.96%\r\n",
      "117 C T 99.82%\r\n",
      "254 A G 0.17%\r\n",
      "276 A G 0.17%\r\n",
      "307 C T 0.94%\r\n",
      "340 T C 0.17%\r\n",
      "389 T C 0.22%\r\n",
      "691 A G 0.17%\r\n",
      "722 A G 0.2%\r\n",
      "744 A G 0.17%\r\n",
      "774 T C 99.96%\r\n",
      "802 A G 0.23%\r\n",
      "859 A G 0.18%\r\n",
      "915 T C 0.19%\r\n",
      "999 C T 99.86%\r\n",
      "1043 A G 0.18%\r\n",
      "1086 A G 0.21%\r\n",
      "1213 A G 0.22%\r\n",
      "1260 A C 99.94%\r\n",
      "1280 T C 0.18%\r\n",
      "1458 T C 0.84%\r\n"
     ]
    }
   ],
   "source": [
    "!cat 4_varscan_0.001/VarScan_results_01.vcf | awk 'NR>24 {split($10,freq,\":\"); print $2, $4, $5, freq[7]}'"
   ]
  },
  {
   "cell_type": "code",
   "execution_count": 143,
   "metadata": {},
   "outputs": [
    {
     "name": "stdout",
     "output_type": "stream",
     "text": [
      ".:\r\n",
      "\u001b[0m\u001b[01;34m1_fastqc\u001b[0m             \u001b[01;34m4_varscan_0.001\u001b[0m      ref_seq.fasta\r\n",
      "\u001b[01;34m2.1_indexed_ref_seq\u001b[0m  Lab_Notebook2.ipynb  ref_seq.fasta.fai\r\n",
      "\u001b[01;34m2.2_align\u001b[0m            Lab_Notebook.ipynb   roommate.fastq\r\n",
      "\u001b[01;34m3_varscan_0.95\u001b[0m       \u001b[01;34mraw_data\u001b[0m             \u001b[01;31mVarScan.v2.3.9.jar\u001b[0m\r\n",
      "\r\n",
      "./1_fastqc:\r\n",
      "roommate.fastq  roommate_fastqc.html  \u001b[01;31mroommate_fastqc.zip\u001b[0m\r\n",
      "\r\n",
      "./2.1_indexed_ref_seq:\r\n",
      "ref_seq.fasta      ref_seq.fasta.ann  ref_seq.fasta.pac\r\n",
      "ref_seq.fasta.amb  ref_seq.fasta.bwt  ref_seq.fasta.sa\r\n",
      "\r\n",
      "./2.2_align:\r\n",
      "roommate.bam  roommate.bam.bai\r\n",
      "\r\n",
      "./3_varscan_0.95:\r\n",
      "VarScan_results_95.vcf\r\n",
      "\r\n",
      "./4_varscan_0.001:\r\n",
      "VarScan_results_01.vcf\r\n",
      "\r\n",
      "./raw_data:\r\n",
      "ref_seq.fasta  roommate.fastq  \u001b[01;31mroommate.fastq.gz\u001b[0m\r\n"
     ]
    }
   ],
   "source": [
    "# file structure\n",
    "!ls -R --color=always"
   ]
  },
  {
   "cell_type": "markdown",
   "metadata": {},
   "source": [
    "$~$"
   ]
  },
  {
   "cell_type": "markdown",
   "metadata": {},
   "source": [
    "## 5. Inspect and align the control sample sequencing data"
   ]
  },
  {
   "cell_type": "markdown",
   "metadata": {},
   "source": [
    "We will look through three controls (from sequencing of isogenic reference samples) -- the result of 3 sequences of one 100% pure sample of the standard (reference) H3N2 influenza virus, PCR amplified, and subcloned into a plasmid. Any “mutations” in the control samples which don’t contain any true genetic variants must be due to errors. "
   ]
  },
  {
   "cell_type": "markdown",
   "metadata": {},
   "source": [
    "1. Get all files"
   ]
  },
  {
   "cell_type": "code",
   "execution_count": 151,
   "metadata": {},
   "outputs": [
    {
     "name": "stdout",
     "output_type": "stream",
     "text": [
      "--2021-10-24 20:29:03--  http://ftp.sra.ebi.ac.uk/vol1/fastq/SRR170/008/SRR1705858/SRR1705858.fastq.gz\n",
      "Resolving ftp.sra.ebi.ac.uk (ftp.sra.ebi.ac.uk)... 193.62.193.138\n",
      "Connecting to ftp.sra.ebi.ac.uk (ftp.sra.ebi.ac.uk)|193.62.193.138|:80... connected.\n",
      "HTTP request sent, awaiting response... 200 OK\n",
      "Length: 14782243 (14M) [application/octet-stream]\n",
      "Saving to: ‘SRR1705858.fastq.gz’\n",
      "\n",
      "SRR1705858.fastq.gz 100%[===================>]  14,10M   617KB/s    in 26s     \n",
      "\n",
      "2021-10-24 20:29:34 (555 KB/s) - ‘SRR1705858.fastq.gz’ saved [14782243/14782243]\n",
      "\n",
      "--2021-10-24 20:29:34--  http://ftp.sra.ebi.ac.uk/vol1/fastq/SRR170/009/SRR1705859/SRR1705859.fastq.gz\n",
      "Resolving ftp.sra.ebi.ac.uk (ftp.sra.ebi.ac.uk)... 193.62.193.138\n",
      "Connecting to ftp.sra.ebi.ac.uk (ftp.sra.ebi.ac.uk)|193.62.193.138|:80... connected.\n",
      "HTTP request sent, awaiting response... 200 OK\n",
      "Length: 13581641 (13M) [application/octet-stream]\n",
      "Saving to: ‘SRR1705859.fastq.gz’\n",
      "\n",
      "SRR1705859.fastq.gz 100%[===================>]  12,95M   666KB/s    in 25s     \n",
      "\n",
      "2021-10-24 20:30:00 (523 KB/s) - ‘SRR1705859.fastq.gz’ saved [13581641/13581641]\n",
      "\n",
      "--2021-10-24 20:30:00--  http://ftp.sra.ebi.ac.uk/vol1/fastq/SRR170/000/SRR1705860/SRR1705860.fastq.gz\n",
      "Resolving ftp.sra.ebi.ac.uk (ftp.sra.ebi.ac.uk)... 193.62.193.138\n",
      "Connecting to ftp.sra.ebi.ac.uk (ftp.sra.ebi.ac.uk)|193.62.193.138|:80... connected.\n",
      "HTTP request sent, awaiting response... 200 OK\n",
      "Length: 14372113 (14M) [application/octet-stream]\n",
      "Saving to: ‘SRR1705860.fastq.gz’\n",
      "\n",
      "SRR1705860.fastq.gz 100%[===================>]  13,71M   557KB/s    in 30s     \n",
      "\n",
      "2021-10-24 20:30:30 (470 KB/s) - ‘SRR1705860.fastq.gz’ saved [14372113/14372113]\n",
      "\n"
     ]
    }
   ],
   "source": [
    "# Download files\n",
    "!wget -c ftp.sra.ebi.ac.uk/vol1/fastq/SRR170/008/SRR1705858/SRR1705858.fastq.gz\n",
    "!wget -c ftp.sra.ebi.ac.uk/vol1/fastq/SRR170/009/SRR1705859/SRR1705859.fastq.gz\n",
    "!wget -c ftp.sra.ebi.ac.uk/vol1/fastq/SRR170/000/SRR1705860/SRR1705860.fastq.gz\n",
    "\n",
    "# Move them to raw_data/ and rename\n",
    "!mv SRR1705858.fastq.gz raw_data/control1.fastq.gz\n",
    "!mv SRR1705859.fastq.gz raw_data/control2.fastq.gz\n",
    "!mv SRR1705860.fastq.gz raw_data/control3.fastq.gz\n",
    "\n",
    "# Unpack\n",
    "!gunzip -k raw_data/control*"
   ]
  },
  {
   "cell_type": "markdown",
   "metadata": {},
   "source": [
    "2. Look how many reads are in each control file:"
   ]
  },
  {
   "cell_type": "code",
   "execution_count": 226,
   "metadata": {},
   "outputs": [
    {
     "name": "stdout",
     "output_type": "stream",
     "text": [
      "256586 reads in file 1\n",
      "233327 reads in file 2\n",
      "249964 reads in file 3\n"
     ]
    }
   ],
   "source": [
    "!cat raw_data/control1.fastq | wc -l | awk '{print $1/4 \" reads in file 1\"}'\n",
    "!cat raw_data/control2.fastq | wc -l | awk '{print $1/4 \" reads in file 2\"}'\n",
    "!cat raw_data/control3.fastq | wc -l | awk '{print $1/4 \" reads in file 3\"}'"
   ]
  },
  {
   "cell_type": "markdown",
   "metadata": {},
   "source": [
    "3. Mean read lengths in each file:"
   ]
  },
  {
   "cell_type": "code",
   "execution_count": 227,
   "metadata": {},
   "outputs": [
    {
     "name": "stdout",
     "output_type": "stream",
     "text": [
      "148,561\n",
      "148,446\n",
      "148,703\n"
     ]
    }
   ],
   "source": [
    "# print legth of each 4th row, beginning from 2nd --> \n",
    "# we want to calculate mean length = (length of all reads)/(number of reads)\n",
    "\n",
    "!cat raw_data/control1.fastq | awk '{if((NR+2)%4==0) sum+=length;}END{print sum/256586;}'\n",
    "!cat raw_data/control2.fastq | awk '{if((NR+2)%4==0) sum+=length;}END{print sum/233327;}' \n",
    "!cat raw_data/control3.fastq | awk '{if((NR+2)%4==0) sum+=length;}END{print sum/249964;}' "
   ]
  },
  {
   "cell_type": "markdown",
   "metadata": {},
   "source": [
    "So again, there are 1665 b.p. in reference gene. <br>\n",
    "There are 256586, 233327 and 249964 reads in control files 1,2 and 3. <br>\n",
    "Mean read length is about 148.5.\n",
    "\n",
    "All that info gives us rough estimate of the coverage in our samples $\\frac{256586*148.5}{1665} \\approx 22885$ (for file control1.fastq)."
   ]
  },
  {
   "cell_type": "code",
   "execution_count": 208,
   "metadata": {},
   "outputs": [],
   "source": [
    "!mkdir 5_align_control"
   ]
  },
  {
   "cell_type": "code",
   "execution_count": 228,
   "metadata": {},
   "outputs": [
    {
     "name": "stdout",
     "output_type": "stream",
     "text": [
      "[M::bwa_idx_load_from_disk] read 0 ALT contigs\n",
      "[M::process] read 67448 sequences (10000210 bp)...\n",
      "[M::process] read 67230 sequences (10000094 bp)...\n",
      "[M::mem_process_seqs] Processed 67448 reads in 5.779 CPU sec, 5.549 real sec\n",
      "[M::process] read 67100 sequences (10000113 bp)...\n",
      "[M::mem_process_seqs] Processed 67230 reads in 6.470 CPU sec, 6.195 real sec\n",
      "[M::process] read 54808 sequences (8118313 bp)...\n",
      "[M::mem_process_seqs] Processed 67100 reads in 6.567 CPU sec, 6.382 real sec\n",
      "[M::mem_process_seqs] Processed 54808 reads in 5.547 CPU sec, 5.447 real sec\n",
      "[main] Version: 0.7.17-r1188\n",
      "[main] CMD: bwa mem 2.1_indexed_ref_seq/ref_seq.fasta raw_data/control1.fastq\n",
      "[main] Real time: 25.112 sec; CPU: 24.751 sec\n",
      "[M::bwa_idx_load_from_disk] read 0 ALT contigs\n",
      "[M::process] read 67476 sequences (10000274 bp)...\n",
      "[M::process] read 67236 sequences (10000039 bp)...\n",
      "[M::mem_process_seqs] Processed 67476 reads in 5.951 CPU sec, 5.763 real sec\n",
      "[M::process] read 67216 sequences (10000283 bp)...\n",
      "[M::mem_process_seqs] Processed 67236 reads in 7.187 CPU sec, 6.974 real sec\n",
      "[M::process] read 31399 sequences (4635971 bp)...\n",
      "[M::mem_process_seqs] Processed 67216 reads in 7.573 CPU sec, 7.845 real sec\n",
      "[M::mem_process_seqs] Processed 31399 reads in 3.729 CPU sec, 3.581 real sec\n",
      "[main] Version: 0.7.17-r1188\n",
      "[main] CMD: bwa mem 2.1_indexed_ref_seq/ref_seq.fasta raw_data/control2.fastq\n",
      "[main] Real time: 25.337 sec; CPU: 24.769 sec\n",
      "[M::bwa_idx_load_from_disk] read 0 ALT contigs\n",
      "[M::process] read 67356 sequences (10000126 bp)...\n",
      "[M::process] read 67208 sequences (10000122 bp)...\n",
      "[M::mem_process_seqs] Processed 67356 reads in 5.362 CPU sec, 5.166 real sec\n",
      "[M::process] read 67010 sequences (10000072 bp)...\n",
      "[M::mem_process_seqs] Processed 67208 reads in 6.120 CPU sec, 5.823 real sec\n",
      "[M::process] read 48390 sequences (7170166 bp)...\n",
      "[M::mem_process_seqs] Processed 67010 reads in 6.182 CPU sec, 5.959 real sec\n",
      "[M::mem_process_seqs] Processed 48390 reads in 4.830 CPU sec, 4.737 real sec\n",
      "[main] Version: 0.7.17-r1188\n",
      "[main] CMD: bwa mem 2.1_indexed_ref_seq/ref_seq.fasta raw_data/control3.fastq\n",
      "[main] Real time: 23.012 sec; CPU: 22.848 sec\n"
     ]
    }
   ],
   "source": [
    "# 1. bwa mem:       make alignment based on ref seq KF848938.1 (.sam)\n",
    "# 2. samtools view: compress alignment file (.sam > .bam)\n",
    "# 3. samtools sort: sort compress file (.bam) and save it to 5_align_control/\n",
    "\n",
    "!bwa mem 2.1_indexed_ref_seq/ref_seq.fasta raw_data/control1.fastq | samtools view -S -b - | samtools sort - -o 5_align_control/control_alignment1.bam\n",
    "!bwa mem 2.1_indexed_ref_seq/ref_seq.fasta raw_data/control2.fastq | samtools view -S -b - | samtools sort - -o 5_align_control/control_alignment2.bam\n",
    "!bwa mem 2.1_indexed_ref_seq/ref_seq.fasta raw_data/control3.fastq | samtools view -S -b - | samtools sort - -o 5_align_control/control_alignment3.bam"
   ]
  },
  {
   "cell_type": "code",
   "execution_count": 229,
   "metadata": {},
   "outputs": [],
   "source": [
    "# Index each .bam file with control alignments (creates .bam.bai)\n",
    "!samtools index 5_align_control/control_alignment1.bam\n",
    "!samtools index 5_align_control/control_alignment2.bam\n",
    "!samtools index 5_align_control/control_alignment3.bam"
   ]
  },
  {
   "cell_type": "code",
   "execution_count": 211,
   "metadata": {},
   "outputs": [
    {
     "name": "stdout",
     "output_type": "stream",
     "text": [
      ".:\r\n",
      "\u001b[0m\u001b[01;34m1_fastqc\u001b[0m             \u001b[01;34m5_align_control\u001b[0m      ref_seq.fasta\r\n",
      "\u001b[01;34m2.1_indexed_ref_seq\u001b[0m  labjournal.ipynb     ref_seq.fasta.fai\r\n",
      "\u001b[01;34m2.2_align\u001b[0m            Lab_Notebook2.ipynb  roommate.fastq\r\n",
      "\u001b[01;34m3_varscan_0.95\u001b[0m       Lab_Notebook.ipynb   \u001b[01;31mVarScan.v2.3.9.jar\u001b[0m\r\n",
      "\u001b[01;34m4_varscan_0.001\u001b[0m      \u001b[01;34mraw_data\u001b[0m\r\n",
      "\r\n",
      "./1_fastqc:\r\n",
      "roommate.fastq  roommate_fastqc.html  \u001b[01;31mroommate_fastqc.zip\u001b[0m\r\n",
      "\r\n",
      "./2.1_indexed_ref_seq:\r\n",
      "ref_seq.fasta      ref_seq.fasta.ann  ref_seq.fasta.pac\r\n",
      "ref_seq.fasta.amb  ref_seq.fasta.bwt  ref_seq.fasta.sa\r\n",
      "\r\n",
      "./2.2_align:\r\n",
      "roommate.bam  roommate.bam.bai\r\n",
      "\r\n",
      "./3_varscan_0.95:\r\n",
      "VarScan_results_95.vcf\r\n",
      "\r\n",
      "./4_varscan_0.001:\r\n",
      "VarScan_results_01.vcf\r\n",
      "\r\n",
      "./5_align_control:\r\n",
      "control_alignment1.bam      control_alignment2.bam.bai\r\n",
      "control_alignment1.bam.bai  control_alignment3.bam\r\n",
      "control_alignment2.bam      control_alignment3.bam.bai\r\n",
      "\r\n",
      "./raw_data:\r\n",
      "control1.fastq     \u001b[01;31mcontrol2.fastq.gz\u001b[0m  ref_seq.fasta\r\n",
      "\u001b[01;31mcontrol1.fastq.gz\u001b[0m  control3.fastq     roommate.fastq\r\n",
      "control2.fastq     \u001b[01;31mcontrol3.fastq.gz\u001b[0m  \u001b[01;31mroommate.fastq.gz\u001b[0m\r\n"
     ]
    }
   ],
   "source": [
    "# file structure\n",
    "!ls -R --color=always"
   ]
  },
  {
   "cell_type": "markdown",
   "metadata": {},
   "source": [
    "$~$"
   ]
  },
  {
   "cell_type": "markdown",
   "metadata": {},
   "source": [
    "## 6. Use VarScan to look for rare variants in the reference files."
   ]
  },
  {
   "cell_type": "code",
   "execution_count": 215,
   "metadata": {},
   "outputs": [],
   "source": [
    "!mkdir 6_varscan_control"
   ]
  },
  {
   "cell_type": "markdown",
   "metadata": {},
   "source": [
    "Now we look for \"mutations\" in control files (we know they are actually method errors)."
   ]
  },
  {
   "cell_type": "code",
   "execution_count": 230,
   "metadata": {},
   "outputs": [
    {
     "name": "stdout",
     "output_type": "stream",
     "text": [
      "[mpileup] 1 samples in 1 input files\n",
      "[mpileup] Max depth set to maximum value (2147483647)\n",
      "Only SNPs will be reported\n",
      "Warning: No p-value threshold provided, so p-values will not be calculated\n",
      "Min coverage:\t8\n",
      "Min reads2:\t2\n",
      "Min var freq:\t0.001\n",
      "Min avg qual:\t15\n",
      "P-value thresh:\t0.01\n",
      "Input stream not ready, waiting for 5 seconds...\n",
      "Input stream not ready, waiting for 5 seconds...\n",
      "Reading input from STDIN\n",
      "1665 bases in pileup file\n",
      "58 variant positions (58 SNP, 0 indel)\n",
      "1 were failed by the strand-filter\n",
      "57 variant positions reported (57 SNP, 0 indel)\n"
     ]
    }
   ],
   "source": [
    "!samtools mpileup -d 0 -f ref_seq.fasta 5_align_control/control_alignment1.bam | java -jar VarScan.v2.3.9.jar mpileup2snp --min-var-freq 0.001 --variants --output-vcf 1 > 6_varscan_control/VarScan_control1_01.vcf"
   ]
  },
  {
   "cell_type": "code",
   "execution_count": 231,
   "metadata": {},
   "outputs": [
    {
     "name": "stdout",
     "output_type": "stream",
     "text": [
      "[mpileup] 1 samples in 1 input files\n",
      "[mpileup] Max depth set to maximum value (2147483647)\n",
      "Only SNPs will be reported\n",
      "Warning: No p-value threshold provided, so p-values will not be calculated\n",
      "Min coverage:\t8\n",
      "Min reads2:\t2\n",
      "Min var freq:\t0.001\n",
      "Min avg qual:\t15\n",
      "P-value thresh:\t0.01\n",
      "Input stream not ready, waiting for 5 seconds...\n",
      "Input stream not ready, waiting for 5 seconds...\n",
      "Reading input from STDIN\n",
      "1665 bases in pileup file\n",
      "54 variant positions (54 SNP, 0 indel)\n",
      "2 were failed by the strand-filter\n",
      "52 variant positions reported (52 SNP, 0 indel)\n"
     ]
    }
   ],
   "source": [
    "!samtools mpileup -d 0 -f ref_seq.fasta 5_align_control/control_alignment2.bam | java -jar VarScan.v2.3.9.jar mpileup2snp --min-var-freq 0.001 --variants --output-vcf 1 > 6_varscan_control/VarScan_control2_01.vcf"
   ]
  },
  {
   "cell_type": "code",
   "execution_count": 232,
   "metadata": {},
   "outputs": [
    {
     "name": "stdout",
     "output_type": "stream",
     "text": [
      "[mpileup] 1 samples in 1 input files\n",
      "[mpileup] Max depth set to maximum value (2147483647)\n",
      "Only SNPs will be reported\n",
      "Warning: No p-value threshold provided, so p-values will not be calculated\n",
      "Min coverage:\t8\n",
      "Min reads2:\t2\n",
      "Min var freq:\t0.001\n",
      "Min avg qual:\t15\n",
      "P-value thresh:\t0.01\n",
      "Input stream not ready, waiting for 5 seconds...\n",
      "Input stream not ready, waiting for 5 seconds...\n",
      "Reading input from STDIN\n",
      "1665 bases in pileup file\n",
      "61 variant positions (61 SNP, 0 indel)\n",
      "0 were failed by the strand-filter\n",
      "61 variant positions reported (61 SNP, 0 indel)\n"
     ]
    }
   ],
   "source": [
    "!samtools mpileup -d 0 -f ref_seq.fasta 5_align_control/control_alignment3.bam | java -jar VarScan.v2.3.9.jar mpileup2snp --min-var-freq 0.001 --variants --output-vcf 1 > 6_varscan_control/VarScan_control3_01.vcf"
   ]
  },
  {
   "cell_type": "markdown",
   "metadata": {},
   "source": [
    "Export all variants from control files and from roommates sequence results:"
   ]
  },
  {
   "cell_type": "code",
   "execution_count": 234,
   "metadata": {},
   "outputs": [],
   "source": [
    "# control files\n",
    "!cat 6_varscan_control/VarScan_control1_01.vcf | awk 'NR>24 {split($10,freq,\":\"); print $2, $4, $5, freq[7]}' > 6_varscan_control/stat_1.txt\n",
    "!cat 6_varscan_control/VarScan_control2_01.vcf | awk 'NR>24 {split($10,freq,\":\"); print $2, $4, $5, freq[7]}' > 6_varscan_control/stat_2.txt\n",
    "!cat 6_varscan_control/VarScan_control3_01.vcf | awk 'NR>24 {split($10,freq,\":\"); print $2, $4, $5, freq[7]}' > 6_varscan_control/stat_3.txt"
   ]
  },
  {
   "cell_type": "code",
   "execution_count": 235,
   "metadata": {},
   "outputs": [],
   "source": [
    "# roommtate's file\n",
    "!cat 4_varscan_0.001/VarScan_results_01.vcf | awk 'NR>24 {split($10,freq,\":\"); print $2, $4, $5, freq[7]}' > 6_varscan_control/roommate_stat.txt"
   ]
  },
  {
   "cell_type": "code",
   "execution_count": 70,
   "metadata": {},
   "outputs": [],
   "source": [
    "# file structure\n",
    "# !ls -R --color=always"
   ]
  },
  {
   "cell_type": "markdown",
   "metadata": {},
   "source": [
    "$~$"
   ]
  },
  {
   "cell_type": "markdown",
   "metadata": {},
   "source": [
    "## 7. Compare the control results to your roommate’s results"
   ]
  },
  {
   "cell_type": "markdown",
   "metadata": {},
   "source": [
    "First, read our stat files..."
   ]
  },
  {
   "cell_type": "code",
   "execution_count": 40,
   "metadata": {},
   "outputs": [],
   "source": [
    "import pandas as pd"
   ]
  },
  {
   "cell_type": "code",
   "execution_count": 54,
   "metadata": {},
   "outputs": [
    {
     "data": {
      "text/html": [
       "<div>\n",
       "<style scoped>\n",
       "    .dataframe tbody tr th:only-of-type {\n",
       "        vertical-align: middle;\n",
       "    }\n",
       "\n",
       "    .dataframe tbody tr th {\n",
       "        vertical-align: top;\n",
       "    }\n",
       "\n",
       "    .dataframe thead th {\n",
       "        text-align: right;\n",
       "    }\n",
       "</style>\n",
       "<table border=\"1\" class=\"dataframe\">\n",
       "  <thead>\n",
       "    <tr style=\"text-align: right;\">\n",
       "      <th></th>\n",
       "      <th>pos</th>\n",
       "      <th>ref</th>\n",
       "      <th>alt</th>\n",
       "      <th>freq</th>\n",
       "    </tr>\n",
       "  </thead>\n",
       "  <tbody>\n",
       "    <tr>\n",
       "      <th>0</th>\n",
       "      <td>72</td>\n",
       "      <td>A</td>\n",
       "      <td>G</td>\n",
       "      <td>99.96%</td>\n",
       "    </tr>\n",
       "    <tr>\n",
       "      <th>1</th>\n",
       "      <td>117</td>\n",
       "      <td>C</td>\n",
       "      <td>T</td>\n",
       "      <td>99.82%</td>\n",
       "    </tr>\n",
       "    <tr>\n",
       "      <th>2</th>\n",
       "      <td>254</td>\n",
       "      <td>A</td>\n",
       "      <td>G</td>\n",
       "      <td>0.17%</td>\n",
       "    </tr>\n",
       "    <tr>\n",
       "      <th>3</th>\n",
       "      <td>276</td>\n",
       "      <td>A</td>\n",
       "      <td>G</td>\n",
       "      <td>0.17%</td>\n",
       "    </tr>\n",
       "    <tr>\n",
       "      <th>4</th>\n",
       "      <td>307</td>\n",
       "      <td>C</td>\n",
       "      <td>T</td>\n",
       "      <td>0.94%</td>\n",
       "    </tr>\n",
       "  </tbody>\n",
       "</table>\n",
       "</div>"
      ],
      "text/plain": [
       "   pos ref alt    freq\n",
       "0   72   A   G  99.96%\n",
       "1  117   C   T  99.82%\n",
       "2  254   A   G   0.17%\n",
       "3  276   A   G   0.17%\n",
       "4  307   C   T   0.94%"
      ]
     },
     "execution_count": 54,
     "metadata": {},
     "output_type": "execute_result"
    }
   ],
   "source": [
    "# roommate stats\n",
    "\n",
    "roommate_mutations = pd.read_csv('6_varscan_control/roommate_stat.txt', \n",
    "                                 sep=' ', \n",
    "                                 names = ['pos', 'ref', 'alt', 'freq'])\n",
    "roommate_mutations.head()"
   ]
  },
  {
   "cell_type": "code",
   "execution_count": 55,
   "metadata": {},
   "outputs": [],
   "source": [
    "# stats from control files\n",
    "\n",
    "control_files = ['stat_1.txt', 'stat_2.txt', 'stat_3.txt']\n",
    "controls = {\n",
    "    file:pd.read_csv('6_varscan_control/'+file, \n",
    "                     sep=' ', \n",
    "                     names = ['pos', 'ref', 'alt', 'freq']) \n",
    "    for file in control_files\n",
    "}"
   ]
  },
  {
   "cell_type": "code",
   "execution_count": 56,
   "metadata": {},
   "outputs": [
    {
     "data": {
      "text/html": [
       "<div>\n",
       "<style scoped>\n",
       "    .dataframe tbody tr th:only-of-type {\n",
       "        vertical-align: middle;\n",
       "    }\n",
       "\n",
       "    .dataframe tbody tr th {\n",
       "        vertical-align: top;\n",
       "    }\n",
       "\n",
       "    .dataframe thead th {\n",
       "        text-align: right;\n",
       "    }\n",
       "</style>\n",
       "<table border=\"1\" class=\"dataframe\">\n",
       "  <thead>\n",
       "    <tr style=\"text-align: right;\">\n",
       "      <th></th>\n",
       "      <th>pos</th>\n",
       "      <th>ref</th>\n",
       "      <th>alt</th>\n",
       "      <th>freq_1</th>\n",
       "      <th>freq_2</th>\n",
       "      <th>freq_3</th>\n",
       "    </tr>\n",
       "  </thead>\n",
       "  <tbody>\n",
       "    <tr>\n",
       "      <th>0</th>\n",
       "      <td>38</td>\n",
       "      <td>T</td>\n",
       "      <td>C</td>\n",
       "      <td>0.66%</td>\n",
       "      <td>NaN</td>\n",
       "      <td>0.7%</td>\n",
       "    </tr>\n",
       "    <tr>\n",
       "      <th>1</th>\n",
       "      <td>54</td>\n",
       "      <td>T</td>\n",
       "      <td>C</td>\n",
       "      <td>0.3%</td>\n",
       "      <td>NaN</td>\n",
       "      <td>NaN</td>\n",
       "    </tr>\n",
       "    <tr>\n",
       "      <th>2</th>\n",
       "      <td>72</td>\n",
       "      <td>A</td>\n",
       "      <td>G</td>\n",
       "      <td>0.3%</td>\n",
       "      <td>NaN</td>\n",
       "      <td>NaN</td>\n",
       "    </tr>\n",
       "    <tr>\n",
       "      <th>3</th>\n",
       "      <td>95</td>\n",
       "      <td>A</td>\n",
       "      <td>G</td>\n",
       "      <td>0.24%</td>\n",
       "      <td>NaN</td>\n",
       "      <td>0.24%</td>\n",
       "    </tr>\n",
       "    <tr>\n",
       "      <th>4</th>\n",
       "      <td>117</td>\n",
       "      <td>C</td>\n",
       "      <td>T</td>\n",
       "      <td>0.3%</td>\n",
       "      <td>NaN</td>\n",
       "      <td>NaN</td>\n",
       "    </tr>\n",
       "    <tr>\n",
       "      <th>...</th>\n",
       "      <td>...</td>\n",
       "      <td>...</td>\n",
       "      <td>...</td>\n",
       "      <td>...</td>\n",
       "      <td>...</td>\n",
       "      <td>...</td>\n",
       "    </tr>\n",
       "    <tr>\n",
       "      <th>80</th>\n",
       "      <td>271</td>\n",
       "      <td>A</td>\n",
       "      <td>G</td>\n",
       "      <td>NaN</td>\n",
       "      <td>NaN</td>\n",
       "      <td>0.21%</td>\n",
       "    </tr>\n",
       "    <tr>\n",
       "      <th>81</th>\n",
       "      <td>759</td>\n",
       "      <td>T</td>\n",
       "      <td>C</td>\n",
       "      <td>NaN</td>\n",
       "      <td>NaN</td>\n",
       "      <td>0.19%</td>\n",
       "    </tr>\n",
       "    <tr>\n",
       "      <th>82</th>\n",
       "      <td>1105</td>\n",
       "      <td>A</td>\n",
       "      <td>G</td>\n",
       "      <td>NaN</td>\n",
       "      <td>NaN</td>\n",
       "      <td>0.22%</td>\n",
       "    </tr>\n",
       "    <tr>\n",
       "      <th>83</th>\n",
       "      <td>1209</td>\n",
       "      <td>A</td>\n",
       "      <td>G</td>\n",
       "      <td>NaN</td>\n",
       "      <td>NaN</td>\n",
       "      <td>0.27%</td>\n",
       "    </tr>\n",
       "    <tr>\n",
       "      <th>84</th>\n",
       "      <td>1301</td>\n",
       "      <td>A</td>\n",
       "      <td>G</td>\n",
       "      <td>NaN</td>\n",
       "      <td>NaN</td>\n",
       "      <td>0.22%</td>\n",
       "    </tr>\n",
       "  </tbody>\n",
       "</table>\n",
       "<p>85 rows × 6 columns</p>\n",
       "</div>"
      ],
      "text/plain": [
       "     pos ref alt freq_1 freq_2 freq_3\n",
       "0     38   T   C  0.66%    NaN   0.7%\n",
       "1     54   T   C   0.3%    NaN    NaN\n",
       "2     72   A   G   0.3%    NaN    NaN\n",
       "3     95   A   G  0.24%    NaN  0.24%\n",
       "4    117   C   T   0.3%    NaN    NaN\n",
       "..   ...  ..  ..    ...    ...    ...\n",
       "80   271   A   G    NaN    NaN  0.21%\n",
       "81   759   T   C    NaN    NaN  0.19%\n",
       "82  1105   A   G    NaN    NaN  0.22%\n",
       "83  1209   A   G    NaN    NaN  0.27%\n",
       "84  1301   A   G    NaN    NaN  0.22%\n",
       "\n",
       "[85 rows x 6 columns]"
      ]
     },
     "execution_count": 56,
     "metadata": {},
     "output_type": "execute_result"
    }
   ],
   "source": [
    "# merge controls 1 and 2\n",
    "controls_12 = pd.merge(controls['stat_1.txt'], controls['stat_2.txt'], \n",
    "                       on=['pos','ref','alt'],\n",
    "                       how='outer', \n",
    "                       suffixes=('_1', '_2'))\n",
    "\n",
    "# merge 1,2 and control№3\n",
    "controls_123 = pd.merge(controls_12, controls['stat_3.txt'], \n",
    "                        on=['pos','ref','alt'],\n",
    "                        how='outer')\n",
    "\n",
    "# rename column\n",
    "controls_123.columns.values[5] = 'freq_3'\n",
    "\n",
    "controls_123"
   ]
  },
  {
   "cell_type": "code",
   "execution_count": 57,
   "metadata": {},
   "outputs": [
    {
     "data": {
      "text/html": [
       "<div>\n",
       "<style scoped>\n",
       "    .dataframe tbody tr th:only-of-type {\n",
       "        vertical-align: middle;\n",
       "    }\n",
       "\n",
       "    .dataframe tbody tr th {\n",
       "        vertical-align: top;\n",
       "    }\n",
       "\n",
       "    .dataframe thead th {\n",
       "        text-align: right;\n",
       "    }\n",
       "</style>\n",
       "<table border=\"1\" class=\"dataframe\">\n",
       "  <thead>\n",
       "    <tr style=\"text-align: right;\">\n",
       "      <th></th>\n",
       "      <th>pos</th>\n",
       "      <th>ref</th>\n",
       "      <th>alt</th>\n",
       "      <th>freq_1</th>\n",
       "      <th>freq_2</th>\n",
       "      <th>freq_3_x</th>\n",
       "      <th>freq</th>\n",
       "    </tr>\n",
       "  </thead>\n",
       "  <tbody>\n",
       "    <tr>\n",
       "      <th>0</th>\n",
       "      <td>38</td>\n",
       "      <td>T</td>\n",
       "      <td>C</td>\n",
       "      <td>0.66</td>\n",
       "      <td>NaN</td>\n",
       "      <td>0.7</td>\n",
       "      <td>NaN</td>\n",
       "    </tr>\n",
       "    <tr>\n",
       "      <th>1</th>\n",
       "      <td>54</td>\n",
       "      <td>T</td>\n",
       "      <td>C</td>\n",
       "      <td>0.3</td>\n",
       "      <td>NaN</td>\n",
       "      <td>NaN</td>\n",
       "      <td>NaN</td>\n",
       "    </tr>\n",
       "    <tr>\n",
       "      <th>2</th>\n",
       "      <td>72</td>\n",
       "      <td>A</td>\n",
       "      <td>G</td>\n",
       "      <td>0.3</td>\n",
       "      <td>NaN</td>\n",
       "      <td>NaN</td>\n",
       "      <td>99.96</td>\n",
       "    </tr>\n",
       "    <tr>\n",
       "      <th>3</th>\n",
       "      <td>95</td>\n",
       "      <td>A</td>\n",
       "      <td>G</td>\n",
       "      <td>0.24</td>\n",
       "      <td>NaN</td>\n",
       "      <td>0.24</td>\n",
       "      <td>NaN</td>\n",
       "    </tr>\n",
       "    <tr>\n",
       "      <th>4</th>\n",
       "      <td>117</td>\n",
       "      <td>C</td>\n",
       "      <td>T</td>\n",
       "      <td>0.3</td>\n",
       "      <td>NaN</td>\n",
       "      <td>NaN</td>\n",
       "      <td>99.82</td>\n",
       "    </tr>\n",
       "    <tr>\n",
       "      <th>5</th>\n",
       "      <td>165</td>\n",
       "      <td>T</td>\n",
       "      <td>C</td>\n",
       "      <td>0.24</td>\n",
       "      <td>0.27</td>\n",
       "      <td>0.25</td>\n",
       "      <td>NaN</td>\n",
       "    </tr>\n",
       "    <tr>\n",
       "      <th>6</th>\n",
       "      <td>183</td>\n",
       "      <td>A</td>\n",
       "      <td>G</td>\n",
       "      <td>0.3</td>\n",
       "      <td>0.22</td>\n",
       "      <td>0.23</td>\n",
       "      <td>NaN</td>\n",
       "    </tr>\n",
       "    <tr>\n",
       "      <th>7</th>\n",
       "      <td>216</td>\n",
       "      <td>A</td>\n",
       "      <td>G</td>\n",
       "      <td>0.22</td>\n",
       "      <td>0.24</td>\n",
       "      <td>0.24</td>\n",
       "      <td>NaN</td>\n",
       "    </tr>\n",
       "    <tr>\n",
       "      <th>8</th>\n",
       "      <td>218</td>\n",
       "      <td>A</td>\n",
       "      <td>G</td>\n",
       "      <td>0.28</td>\n",
       "      <td>0.29</td>\n",
       "      <td>0.23</td>\n",
       "      <td>NaN</td>\n",
       "    </tr>\n",
       "    <tr>\n",
       "      <th>9</th>\n",
       "      <td>222</td>\n",
       "      <td>T</td>\n",
       "      <td>C</td>\n",
       "      <td>0.26</td>\n",
       "      <td>0.25</td>\n",
       "      <td>0.3</td>\n",
       "      <td>NaN</td>\n",
       "    </tr>\n",
       "  </tbody>\n",
       "</table>\n",
       "</div>"
      ],
      "text/plain": [
       "   pos ref alt freq_1 freq_2 freq_3_x   freq\n",
       "0   38   T   C   0.66    NaN      0.7    NaN\n",
       "1   54   T   C    0.3    NaN      NaN    NaN\n",
       "2   72   A   G    0.3    NaN      NaN  99.96\n",
       "3   95   A   G   0.24    NaN     0.24    NaN\n",
       "4  117   C   T    0.3    NaN      NaN  99.82\n",
       "5  165   T   C   0.24   0.27     0.25    NaN\n",
       "6  183   A   G    0.3   0.22     0.23    NaN\n",
       "7  216   A   G   0.22   0.24     0.24    NaN\n",
       "8  218   A   G   0.28   0.29     0.23    NaN\n",
       "9  222   T   C   0.26   0.25      0.3    NaN"
      ]
     },
     "execution_count": 57,
     "metadata": {},
     "output_type": "execute_result"
    }
   ],
   "source": [
    "# merge stats from control files with roommate info\n",
    "control_mate = pd.merge(controls_123, roommate_mutations, \n",
    "                        on=['pos','ref','alt'],\n",
    "                        how='outer')\n",
    "\n",
    "# delete all % symbols\n",
    "control_mate = control_mate.replace(['\\%'], [''], regex=True)\n",
    "\n",
    "# ddof = 0 cause otherwise we will get zero division and NaN in std_freq row when it is only one freq\n",
    "# control_mate['mean_freq'] = control_mate[['freq_1','freq_2','freq_3_x']].astype(float).mean(axis=1, skipna = True)\n",
    "# control_mate['std_freq'] = control_mate[['freq_1','freq_2','freq_3_x']].astype(float).std(axis=1, skipna = True, ddof=0)\n",
    "control_mate.head(10)"
   ]
  },
  {
   "cell_type": "markdown",
   "metadata": {},
   "source": [
    "The **average** and **standard deviation** of the frequencies reported in control files are:"
   ]
  },
  {
   "cell_type": "code",
   "execution_count": 69,
   "metadata": {},
   "outputs": [
    {
     "name": "stdout",
     "output_type": "stream",
     "text": [
      "For control file 1: freq = 0.26±0.07\n",
      "For control file 2: freq = 0.24±0.05\n",
      "For control file 3: freq = 0.25±0.08\n"
     ]
    }
   ],
   "source": [
    "means = control_mate[['freq_1','freq_2','freq_3_x']].astype(float).mean(axis=0, skipna = True)\n",
    "stds = control_mate[['freq_1','freq_2','freq_3_x']].astype(float).std(axis=0, skipna = True)\n",
    "\n",
    "for (m, s, i) in zip(means, stds, [1, 2, 3]):\n",
    "    print(f'For control file {i}: freq = {m:.2f}±{s:.2f}')"
   ]
  },
  {
   "cell_type": "code",
   "execution_count": 66,
   "metadata": {},
   "outputs": [],
   "source": [
    "!mkdir 7_roommate_vs_control"
   ]
  },
  {
   "cell_type": "code",
   "execution_count": 68,
   "metadata": {},
   "outputs": [],
   "source": [
    "control_mate.to_csv('7_roommate_vs_control/statistics.csv')"
   ]
  },
  {
   "cell_type": "markdown",
   "metadata": {},
   "source": [
    "Average frequency from all control files is 0.25±0.07.<br>\n",
    "Now we can visually look at column **freq** (frequency of each variant in sequence results of our roommate) in file *statistics.csv* and compare it with average control frequency. <br>\n",
    "We found 2 mutations (*see table below*), that are present in roommate's sequence data, but not in control data. This rare mutation's frequencies are more than 3 standard deviations away from the averages in the reference (control) files (>0.25+0.21). <br>\n",
    "So, we assume, that this variants appear not because of PCR/sequencing errors, but because of virus mutations in roommate's cells.\n",
    "\n",
    "|  position  |    base change    | freq |       aa change       |\n",
    "|------------|-------------------|------|-----------------------|\n",
    "|     307    | C $\\rightarrow$ T | 0.94 |       Pro103Ser       |\n",
    "|    1458    | T $\\rightarrow$ C | 0.84 |       Tyr486Tyr       |"
   ]
  },
  {
   "cell_type": "markdown",
   "metadata": {},
   "source": [
    "Only one of this 2 mutations leads to amino acid change (from non-polar Proline to polar Serine)."
   ]
  },
  {
   "cell_type": "markdown",
   "metadata": {},
   "source": [
    "$~$"
   ]
  },
  {
   "cell_type": "markdown",
   "metadata": {},
   "source": [
    "## 8. Epitope mapping"
   ]
  },
  {
   "cell_type": "markdown",
   "metadata": {},
   "source": [
    "An **epitope** is the part of an antigen that is recognized by the immune system.<br>\n",
    "Using [Munoz et al, 2004](https://drive.google.com/file/d/1xe5-4LxIV4bO4mX6jhvrMAqtpOpkWsXm/view) we can determine if Pro103Ser mutation from roommate’s flu infection is located in an epitope region of hemagglutinin."
   ]
  },
  {
   "cell_type": "markdown",
   "metadata": {},
   "source": [
    "**RESULT:** One missense mutation in epitope D"
   ]
  },
  {
   "cell_type": "code",
   "execution_count": null,
   "metadata": {},
   "outputs": [],
   "source": []
  },
  {
   "cell_type": "code",
   "execution_count": null,
   "metadata": {},
   "outputs": [],
   "source": []
  },
  {
   "cell_type": "markdown",
   "metadata": {},
   "source": [
    "## Some extra calculations (for myself)"
   ]
  },
  {
   "cell_type": "code",
   "execution_count": 1,
   "metadata": {},
   "outputs": [
    {
     "name": "stdout",
     "output_type": "stream",
     "text": [
      "256744 + 0 in total (QC-passed reads + QC-failed reads)\n",
      "0 + 0 secondary\n",
      "158 + 0 supplementary\n",
      "0 + 0 duplicates\n",
      "256658 + 0 mapped (99.97% : N/A)\n",
      "0 + 0 paired in sequencing\n",
      "0 + 0 read1\n",
      "0 + 0 read2\n",
      "0 + 0 properly paired (N/A : N/A)\n",
      "0 + 0 with itself and mate mapped\n",
      "0 + 0 singletons (N/A : N/A)\n",
      "0 + 0 with mate mapped to a different chr\n",
      "0 + 0 with mate mapped to a different chr (mapQ>=5)\n",
      "233451 + 0 in total (QC-passed reads + QC-failed reads)\n",
      "0 + 0 secondary\n",
      "124 + 0 supplementary\n",
      "0 + 0 duplicates\n",
      "233375 + 0 mapped (99.97% : N/A)\n",
      "0 + 0 paired in sequencing\n",
      "0 + 0 read1\n",
      "0 + 0 read2\n",
      "0 + 0 properly paired (N/A : N/A)\n",
      "0 + 0 with itself and mate mapped\n",
      "0 + 0 singletons (N/A : N/A)\n",
      "0 + 0 with mate mapped to a different chr\n",
      "0 + 0 with mate mapped to a different chr (mapQ>=5)\n",
      "250184 + 0 in total (QC-passed reads + QC-failed reads)\n",
      "0 + 0 secondary\n",
      "220 + 0 supplementary\n",
      "0 + 0 duplicates\n",
      "250108 + 0 mapped (99.97% : N/A)\n",
      "0 + 0 paired in sequencing\n",
      "0 + 0 read1\n",
      "0 + 0 read2\n",
      "0 + 0 properly paired (N/A : N/A)\n",
      "0 + 0 with itself and mate mapped\n",
      "0 + 0 singletons (N/A : N/A)\n",
      "0 + 0 with mate mapped to a different chr\n",
      "0 + 0 with mate mapped to a different chr (mapQ>=5)\n"
     ]
    }
   ],
   "source": [
    "!samtools flagstat 5_align_control/control_alignment1.bam\n",
    "!samtools flagstat 5_align_control/control_alignment2.bam\n",
    "!samtools flagstat 5_align_control/control_alignment3.bam"
   ]
  },
  {
   "cell_type": "code",
   "execution_count": 4,
   "metadata": {},
   "outputs": [
    {
     "name": "stdout",
     "output_type": "stream",
     "text": [
      "SRR1705860.98\t4\t*\t0\t0\t*\t*\t0\t0\tGTTGTCATTTCCAGGAAGTTTTTGAGCGAAAACCAGACATAGAATGTAGCTCAAAGCAATGATAGTCTTCATGGTTA\t????ABBBDDDEDDDDGGGGGGIHGHHHHHHHFHIHHFEGHHIIHHHHHHIHHGGFFFFFHHIIIGHHHGGHIHGHI\tAS:i:0\tXS:i:0\r\n",
      "SRR1705860.332\t4\t*\t0\t0\t*\t*\t0\t0\tACCATGAAGACTATCATTGCTTTGAGCTACATTCCATGTCTGGTTTTCGCTCAAAAACTTCCTGGA\t??AAABBBDDDDDDDEGGGGGGIIIIIIIIIIIIIIIIGHIHHCGHIIHHHIHIIIIHIIIIIIII\tAS:i:0\tXS:i:0\r\n",
      "SRR1705860.497\t4\t*\t0\t0\t*\t*\t0\t0\tGTCATTTCCAGGAAGTTTTTGAGCGAAAACCAGACATAGAATGTAGCTCAAAGCAATGATAGTCTTCATGGT\t?????BBBDDDDDDDDGGGGGGIIHHHHHIHFHIIIIGHFHIHCFHGHHHHHHIHHHHHHIFEGFHHHGGBG\tAS:i:0\tXS:i:0\r\n",
      "SRR1705860.498\t4\t*\t0\t0\t*\t*\t0\t0\tCATAGAATGTAGCTCAAAGCAATGATAGTCTTCATGGT\t???A?BBBDBDDDDDDGGGGGGHHHHIIEHHIIHHHIG\tAS:i:0\tXS:i:0\r\n",
      "SRR1705860.519\t4\t*\t0\t0\t*\t*\t0\t0\tGTGCTATTGTCATTTCCAGGAAGTTTTTGAGCGAAAACCAGACATAGAATGTAGCTCAAAGCAATGATAGTCTTCATGGT\t????ABBBEEEDDDDDGGGGGGIFHIIIHHIIHHHHHHHIIIIIIIIIIIIHIHIIIIIIHHHIIIIIIIFHIIIIHHIF\tAS:i:0\tXS:i:0\r\n",
      "SRR1705860.881\t4\t*\t0\t0\t*\t*\t0\t0\tCCATGAAGACTATCATTGCTTTGAGCTACATTCTATGTCTGGTTTTCGCTCAAAAACTTCCTGGAAATGACAAC\t?????BBBDDDDDDDDGGGGGGGIIIIIHIIGIIHIIGHIIHAFHIIHHHIHIIIIHIIIIIIIIIIIIHIIII\tAS:i:0\tXS:i:0\r\n",
      "SRR1705860.915\t4\t*\t0\t0\t*\t*\t0\t0\tGACATAGAATGTAGCTCAAAGCAATGATAGTCTTCATGG\t?,?9<BB9?BBBBBBBC?C?FFHF;EC;C>EFDFAFCDE\tAS:i:0\tXS:i:0\r\n",
      "SRR1705860.1142\t4\t*\t0\t0\t*\t*\t0\t0\tGTGCTGTTGTCATTTCCAGGAAGTTTTTGAGCGAAAACCAGACATAGAATGTAGCTCAAAGCAATGATAGTCTTCATG\t?????BBBBBBDDDDBFFFF?FFHHHHHCCFHHHHHHHHFFEDHHHHGCGHFGHHEFACAFFEHHDDFFFDGHGGHHG\tAS:i:0\tXS:i:0\r\n",
      "SRR1705860.1579\t4\t*\t0\t0\t*\t*\t0\t0\tGACTATCATTGCTTTGAGCTACATTCTATGTCCTG\t=====7>><<@@@@@@CEEECAE>/C>EE/9AA@@\tAS:i:0\tXS:i:0\r\n",
      "SRR1705860.1656\t4\t*\t0\t0\t*\t*\t0\t0\tGACTATCATTGCTTTGAGCTACATTCTATGTCCTG\t?????9B9B<B?<<B<86/8AACFFFF;CECCCEG\tAS:i:0\tXS:i:0\r\n",
      "SRR1705860.1967\t4\t*\t0\t0\t*\t*\t0\t0\tCTGTTGTCATTTCCAGGAAGTTTTTGAGCGAAAACCAGACATAGAATGTAGCTCAAAGCAATGATAG\t<????BBBEDDDDDDDGGGGFGIIIHHIIHHHHHIHIHIIIIIIIIIIGHHHHIIIIIIIIIIFIIH\tAS:i:0\tXS:i:0\r\n",
      "SRR1705860.2921\t4\t*\t0\t0\t*\t*\t0\t0\tTCCAGGAAGTTTTTGAGCGAAAACCAGACATAGAATGTAGCTCAAAGC\t=====>=><5@AA@@@ECCCCCA86C>;AEAFFFFCCACGG=EFFFF@\tAS:i:0\tXS:i:0\r\n",
      "SRR1705860.4331\t4\t*\t0\t0\t*\t*\t0\t0\tACATTCTATGTCTGGTTTTCGCTCAAAAACTTCCTGGAAATGACAACAGCAC\t???AABBBDDBDDDD?CFGGGGHIHIIIIHIIIIGGIHIIIIHHIIIIHIII\tAS:i:0\tXS:i:0\r\n",
      "SRR1705860.4797\t4\t*\t0\t0\t*\t*\t0\t0\tCATTCTATGTCTGGTTTTCGCTCAAAAACTTCCTGGAAATGACAAC\t?????BBBDDDDDD<BFFFFEEIHIIIIHIIGEGHHIIIGHIIIHD\tAS:i:0\tXS:i:0\r\n",
      "SRR1705860.5526\t4\t*\t0\t0\t*\t*\t0\t0\tGTTGTCATTTCCAGGAAGTTTTTGAGCGAAAACCAGACATAG\t???A?BBBDDDDEEDEGGFGGGIHHHIHHHHHIHIGIIIHHI\tAS:i:0\tXS:i:0\r\n",
      "SRR1705860.242539\t4\t*\t0\t0\t*\t*\t0\t0\tCATCATTTGGGCCTTCCAAAAAGGCAACATTATGTGCAACATTTGCATT\t====9</</-5<@<-<>ACCEE+666AC,-AF//9/9AECEEG..AC@D\tAS:i:0\tXS:i:0\r\n",
      "SRR1705860.242702\t4\t*\t0\t0\t*\t*\t0\t0\tCTATTAACCATGAAGACTATCATTGCTTTGAGCTACATTCTATGTCTGGTTTTCGCTCAAAAACTTCCTGGAAATGACAACAGC\tAAAAABBBBDDDDDDDFFFFFFIIIIIIIIIHHIIIIIIIIIIIHIIHIDGHIIHHHHHIIIIHIIIIIIIHFFGHIIIHIIII\tAS:i:0\tXS:i:0\r\n",
      "SRR1705860.242928\t4\t*\t0\t0\t*\t*\t0\t0\tGTTGTCATTTCCAGGAAGTTTTTGAGCGAAAACCAGACATAGAATGTAGCTCAAAGCAATGATAGTCTTCATGGTTAATAG\t?????BBBDDEEDDDDGGFFGGIHHHHHHHHHIHIIHHIIIIHHIIHHIIIIIHIHHIIHHHHIIGHIIIIHIIHHIIIII\tAS:i:0\tXS:i:0\r\n",
      "SRR1705860.243010\t4\t*\t0\t0\t*\t*\t0\t0\tGAAGAAAAAAAAAAAGGAAAAAAAAAAAAATAAAAAAAAAAAAAAAAAAAAAAAAAAAAAAAAAAAAAAAAAAAAATAAAAAAAAAAAAAAAAAAAAAAAAAAAAAAAAAAAGGAAAAGGAAAAAAAAAAAAAAAAAAAAAAAAAAAAAAA\t,,55,5---5+++++++----,++*5**))++5+++))))))))))''''''''''''''''''''''''''''''((((.('.''''''''-'''''''''''''''''''-(((((.(((((('''''''''''''''-''''''''''\tAS:i:0\tXS:i:0\r\n",
      "SRR1705860.243028\t4\t*\t0\t0\t*\t*\t0\t0\tGTTGCTGTGGGCTTTGCTTCGTTCAACAACTGTCT\t??A??BBBDDDDDDDDGGGGGGIIIIIIIHIIIII\tAS:i:0\tXS:i:0\r\n",
      "SRR1705860.243098\t4\t*\t0\t0\t*\t*\t0\t0\tGTTTCATATTTCCTCCCCCTTTTCCCTCTTCCCCCTTCCTCCTCATATCCTTTATTTATAAAACTTCACACTAATATATTCTCTATTTTTATACCCTCCTTTTTCTTTCTTCCCCCCCCCTCCCTTTTCCCTTTTTATTTAACTAATCAAA\t?????B?B<BBDDDD?FEDC>>/AEEFFH/ACFFH+7EFFGHFFG=EGHHHHEGG/8A88EFGHH5A?CDFHHHHHFGF5DEHGHHHEFGHDEGHHHHHEG=CCFE.8AFGHHHHHHHE>1=BEE=4,??EEEEB=,,44??C==B=BEEE\tAS:i:0\tXS:i:0\r\n",
      "SRR1705860.243102\t4\t*\t0\t0\t*\t*\t0\t0\tCTCTGGTACATTCCCCTTCTTTTCTCCTTTTTACATTTTTTAATTTTTTTTCATTTTTAATTCTTCCATTTTTATTTATTCATTCATAATTTCATTTTCCAATTTTTTCCTCTTCTCTCCTTCTTTCCCTTTTCCCACTTCTTATTTTAAA\t?????B<75<55?BBBCFFFC>888AEFEHHFHFHHFHHGCFHGFCGEECCHHHHGDF,AEAACFFHHHHHCG?A-5AECEEGCDF?7ECG.EFGFFFHDDGFGD??CCDC?F.7@DFHCCFFDD4D,5??FFEEDB@=DDDB=DDCEECB\tAS:i:0\tXS:i:0\r\n",
      "SRR1705860.243188\t4\t*\t0\t0\t*\t*\t0\t0\tGGATAATTCTATTAACCATGAAGACTATCATTGCTTTGAGCTACATTCTATGTC\t<<<<?BBB?BBBBBBBCAAAFF?>AAF>A09AAB9AC/E>CFD?FBACFFFDDF\tAS:i:0\tXS:i:0\r\n",
      "SRR1705860.243201\t4\t*\t0\t0\t*\t*\t0\t0\tGTTAAAATGCTGAGGATACTTTCCCTTTTTTTTTCCCCCTCTACCACAAATGTGAC\t555,57775-55-5,5>.88/8AE>A8-AC6>CCEFFECCE-A-555ACEC@CB-C\tAS:i:0\tXS:i:0\r\n",
      "SRR1705860.243205\t4\t*\t0\t0\t*\t*\t0\t0\tGTCTCTCTCCTCTCTTCTTCCTTCCCTCTTTTTTTCTTCTTTTTTTCTCTCCTTTTCTTCTTCCTTCTTCTTTCTCCTCCCTTCCTCTTTTTTCCTTTTCCTTCCCCTTTTTTTTCCCCCCCCCCCTGTACAATTTGTCAAATTGTTCATT\t?????7<?BB5?<BBBFF>CFFHHHC8AEFEHHE>CEFHHHHHG>DCAGFHHGEEACEGDGHFFF5CG-AEHACECGHFFFFFFFEHHHHCGHHHHD.@FF.CFFFFC4,@CAE=DDCEEEE????2A::CACEECCEE:*:CEE:::::*\tAS:i:0\tXS:i:0\r\n",
      "SRR1705860.243623\t4\t*\t0\t0\t*\t*\t0\t0\tGCAGGGGATAATTCTATTAACCATGAAGACTATCATTGCTTTGAGCTACATTCTATGTCTGGTTTTCGCTCAAAAACTTCCTGGAAATGACAACAG\t5<?5<<@??BDDDDDDGGGGGGIIIHIHHIIIIIHIIIIIIIIIIHIIIIIIIIIIIHIIHHACFHIHHHIHIIIIHIIIIIHIHHIHIHIIIIIH\tAS:i:0\tXS:i:0\r\n",
      "SRR1705860.243728\t4\t*\t0\t0\t*\t*\t0\t0\tCCCATGATGAACCCCAACAAAGCAACCCCCCTCCCCCCCCCTTCTATTGCAAAGGAAATCCATAGGAT\t55?5555755555<BBEECCCFFFCF66@CE+@CFHHHHHHEFFHHHGHHHHHHHHHHHHHHFHFFC?\tAS:i:0\tXS:i:0\r\n",
      "SRR1705860.243871\t4\t*\t0\t0\t*\t*\t0\t0\tACATTNTCCTGCAGCGTATATCACTCTGGAGTCCTTTCCTGTCTGGTCACTGTGGTGCTCGGCTTTCCTTAAGCGTTCCAGGTGCGGTGGTCCTGGGGCATTTGTACTTGTGTACATTACCTATTCAGCTATCCAAATGTTTGCGTCCCAG\t=====#55<,@@@@@@CCEEECBE>8CCEEEFEFGGGFFGFFFGFEFFGFGFGFECDFFFEDEECDFFFFFFFFCEEEEEEECEEDCECEEEDDEECDECEDDE=DE=DDEEDEEEDEE+;DEEEE@E*9DEDEE;@7;@7@E@@@@@EE@\tAS:i:0\tXS:i:0\r\n",
      "SRR1705860.243981\t4\t*\t0\t0\t*\t*\t0\t0\tCACTTAAACTTCAAATACCCAGCTTTGGACGTAACCCTGCCAAACAATAAACGATTTTTCAAACTGCACATTTGGGGGGATCACCGCCAGGGTACGTACGAGTGCCAAATCTTACTA\t====,<>>-5@<-<@<;CC-C;C-8..--8+7+,+.+,-7AC-7+,+-.9.-++7+7--5A-5-5--AC@555A-5**''//<(((--'.(//<6((/('/(-(((((/.66(((((\tAS:i:0\tXS:i:0\r\n",
      "SRR1705860.244006\t4\t*\t0\t0\t*\t*\t0\t0\tGGATAATTCTATTAACCATGAAGACTATCATTGCTTTGAGCTACATTCTATGTCTGGTTTTCGCTCAAAAAC\t?????BBBDDDDDDDDFCFFFFBFHHH;FHHIHFGHII@FFHCGGHIIHIIFHHBFFAADFFA>,ACFDHFC\tAS:i:0\tXS:i:0\r\n",
      "SRR1705860.244177\t4\t*\t0\t0\t*\t*\t0\t0\tGTTGCATGACCATAGATCTATTTTGGGGTCCTCAAAATTTTTCTCAAGGCCCGGAATTCTCCCTCGGCCTTTGGAGATTTCTTTTTCAATTGGTGGGATTTTTTGGTGGGTTTTCCGGTCAATTCTTTTCGCCTTCCCATGGTTTTGTTGA\t=====>>>@@@@@@@@EEEEEEE//++++6+..9-.---9C@-.9A.9-+7+++5+5---5C-A-*+++5------5-5--5EEE--8--,,+5+5)<+=D++)))4+40;@E1D@*)))*2*****2**)**/(.6((/(((/6((/(((\tAS:i:0\tXS:i:0\r\n",
      "SRR1705860.244264\t4\t*\t0\t0\t*\t*\t0\t0\tGCATTTGAGTGCATTAATTAAAAACACCCTTGTTTCTACTAATA\t???A?BBBEDDDDDDDGGGGGGIIHIIHHIIIGHIGHIHIHHHH\tAS:i:0\tXS:i:0\r\n",
      "SRR1705860.244323\t4\t*\t0\t0\t*\t*\t0\t0\tGAATTGAAAACAAAAAAGAAAAAAAAAAAAAAAAATAAAAAAAAGAAAATTTAGAGGGTACAAACAAAGAGAACACAAAAGAACAAAATATACAAAAAAACAAAAGCACAAGGAAGAATAAAAGAAAATACAAAAACAAACAAACAAG\t555555/-5----5--++66--,6+++++*5**))+++5++)))3++1++++++**331*****2022*********2**1**(((((/.((//((((''((/((((((.(((((((((((/(/(((((((/((((((((-((((//(\tAS:i:0\tXS:i:0\r\n",
      "SRR1705860.244463\t4\t*\t0\t0\t*\t*\t0\t0\tCCACCCTTTTCCTTCCCCTTCCCCCCTCTTCCTTTCTTCTCCCTCCTCATTCATAATCACATTATCTACCAAAATAATCCAACAATCTTTAATTCCTAATCTCTTCTCTCTCCCCCTCTTCCTTCCTCTCCCTCTCATATTAATCAT\t???????-<BBB-?BBFF-6CCFFHHHHHHHHGAFDF0A0AFHEFHCAA8CFAAEGHHHHFGHHHHHHHHHHFHCFH5CFGDFFHCGHEGHHHHHHA?F?DGH7@DFHGH?@FFHC3C,CCF?45?DDFFFEEE,BE;B5BDE5?CE\tAS:i:0\tXS:i:0\r\n",
      "SRR1705860.244543\t4\t*\t0\t0\t*\t*\t0\t0\tCTGTTGTCATTTCCAGGAAGTTTTTGAGCGAAAACCAGACATAGAATGTAGCTCAAAGCAATGATAGTCTTCATGGTTAATAG\t?????BBBBBDDBDDDFFFFFFFHHHH?FHHHHFHHHHFFHHHHHHHECGHFHHHDGFH=FGA??EEFHHHHBFHCAEGHHCB\tAS:i:0\tXS:i:0\r\n",
      "SRR1705860.244865\t4\t*\t0\t0\t*\t*\t0\t0\tACATAGAATGTAGCTCAAAGCAATGATAGTCTTCATGGTTAATAGAATTATCC\t???AABBBDDDDDDDDGGGGGGIIIIIIIFIIIIIHHIGHHHIIIIIIIIIHI\tAS:i:0\tXS:i:0\r\n",
      "SRR1705860.244982\t4\t*\t0\t0\t*\t*\t0\t0\tGGATAATTCTATTAACCATGAAGACTATCATTGCTTTGAGCTACATTCTATGTCTGGTTTTCGCTCAAAAACTTCCGGGAAATGAAAACACACCGGAAACGTGGTCCTTTGGGTACACTGCAGTGCAAACCGAACAAATAGTAAAAAAATA\t?????BB?BBBBBB<BC>>>CFB8CF/8A>EFGFGFFFDDG/AFH0E0999A99E?E/ACF?D7CECGDFD>55AC+55C>+-///8/-,,8++5)5CC,+4+++,77CDDF++554,,,,,,5,5,,54*))1))33,,,,3,,;,'.**\tAS:i:0\tXS:i:0\r\n",
      "SRR1705860.245067\t4\t*\t0\t0\t*\t*\t0\t0\tATTCTATTAACCATGAAGACTATCATTGCTTTGAGCTACATTCTATGTC\tA?AAABBBDDDDDDDDGGGGGGIHHIIIFHHHIIIHHIIGHIFGGHHGG\tAS:i:0\tXS:i:0\r\n",
      "SRR1705860.245084\t4\t*\t0\t0\t*\t*\t0\t0\tGGATAATTCTATTAACCATGAAGACTATCATTGCTTTGAGCTACATTCTATGTCTGGTTTTCGCTCAAAAACTTCC\t?????BBBBBB<BBBBFFFFFF?FCCCB>>EHGHHHHDEFFGHHFFHHHHHHGGGFFEHHHDD:EFHHHFF@DFCG\tAS:i:0\tXS:i:0\r\n",
      "SRR1705860.245228\t4\t*\t0\t0\t*\t*\t0\t0\tATTCTATTAACCATGAAGACTATCATTGCTTTGAGCTACATTCTATGTCTGGTTTTCGCTCAAAAACTTCCTGGAAATGACAAC\t?????BBBDDDDDDDDGGGGGFHIIIIIIIIIIGHHHIIHIIIIHIIGHHHI9DFHIHHHHHHIIIHIIIIIIIIHHHHHHIIF\tAS:i:0\tXS:i:0\r\n",
      "SRR1705860.245348\t4\t*\t0\t0\t*\t*\t0\t0\tCTATTAACCATGAAGACTATCATTGCTTTGAGCTACATTCTATGTCTGGTTTCGCTCCAAAACTTCCTGGAAATGACAACCACACCGCCACGCCTTGCCTTTGGCACCCTTCCAGGCCAAACGGGAACATAGTGGAAACCATCACGAAAGA\tAAAAABBBEDDEDDDDGGGGGGIIIIIIIIIIIIIIIIIIIIIIIIIIIHHH/,,,,+8CGH-/A/A5-A-AE-----5+++++++5**5+)++,+7.7.@.@F...?+4---..-+6+6B++=+=)+3.....,7>C-,4----**3*)*\tAS:i:0\tXS:i:0\r\n",
      "SRR1705860.245536\t4\t*\t0\t0\t*\t*\t0\t0\tGCTCAAAGCAATGATAGTCTTCATGGTTAATAGAAT\t?????BBBDDDDDDDDFCFGGGHIHHCFHFHFHHFH\tAS:i:0\tXS:i:0\r\n",
      "SRR1705860.245724\t4\t*\t0\t0\t*\t*\t0\t0\tAGCGAAAACCAGACATAGAATGTAGCTCAAAGCAATGATAGTCTTCATGGTTAATAG\t?AAA?BAADDDDEEEEGGGGGGIIIIFHIIIIHIIIIIIHIFHHIIIIIIGGHIIHH\tAS:i:0\tXS:i:0\r\n",
      "SRR1705860.245727\t4\t*\t0\t0\t*\t*\t0\t0\tGGATAATTCTATTAACCATGAAGACTATCATTGCTTTGAGCTACATTCTATGTCTGGTTTTCGCTCAAAAACTTCCTGGAAATGACAAC\t?????BBBDDDDDDEDGGGGGGHHIIIIIIIIIIIIIIHIIIHHHHIIIIIIEGHHIDFHHHHHHIHIIIIHIIIIIGHIIIIHIIHIF\tAS:i:0\tXS:i:0\r\n",
      "SRR1705860.245764\t4\t*\t0\t0\t*\t*\t0\t0\tGAATGTAGCTCAAAGCAATGATAGTCTTCATGGTTAATAG\t?????BBBBDDBBDDDFFFCFFHHHHHFHCGGHCGHGHHH\tAS:i:0\tXS:i:0\r\n",
      "SRR1705860.245799\t4\t*\t0\t0\t*\t*\t0\t0\tCTGTTGTCATTTCCAGGAAGTTTTTGAGCGAAAACCAGACATAGAATGTAGCTCAAAGCAATGATAGTCTTCATGGCTAATAGAAT\t?????BBBDDDDEDDDFFFFFFHIHHHIHHHHHHIHIFFFHIHIHHIICFHHHIFHHHFHHIHHFGDEGHHHIIII,AFFHIFHII\tAS:i:0\tXS:i:0\r\n",
      "SRR1705860.245838\t4\t*\t0\t0\t*\t*\t0\t0\tGGATAATTCTATTAACCATGAAGACTATCATTGCTTTGAGCTACATTCTATGTCTGGTTTTCGCTCAAAAACTTCCTGGAAATGACA\t?A?AABBBDEDEEEDDGGGGGGIIIIIIGIGIGIIGIIHIIIIIIIIIIIIIHIHIHEHHIIHHHIHIIIIHIIIIIIIIHIIIIII\tAS:i:0\tXS:i:0\r\n",
      "SRR1705860.245857\t4\t*\t0\t0\t*\t*\t0\t0\tACATTTGCATTTGAGTGCATTAATTAAAAACACCCTTGTTTCTAC\t?????BBBDDDDEDDDGGGGGGFFHFHHHHHHHHHIIHHIIIIHH\tAS:i:0\tXS:i:0\r\n",
      "SRR1705860.246114\t4\t*\t0\t0\t*\t*\t0\t0\tCTATCATTGCTTTGAGCTACATTCTATGTCTGGTTTTCGCTACCCCCCTTCCTTTCCCTTCCCCCCTCCCTTCCCCTCTTTTCCTTTTTCCCCCTTCCTTTCCCCCCTTCCCCCTCTTTCCCCCCCTCACGAATGACCACATTGAAGTTA\t55555777555??<BAF?CFFFFHCFFFCFFHHGHHHH7DE,57AEHEEFHHH-CFGHFBFFFHHHHHHHAAACFFACF?DCDGHFD?@@CFFHH?CF-@@FFFFEE;,BDEEEEEB===?EEEED8ACEAEEEE?EEE*8AEEEEE:AA\tAS:i:0\tXS:i:0\r\n",
      "SRR1705860.246291\t4\t*\t0\t0\t*\t*\t0\t0\tGTTTCATAGAAAATGGTTGGGAGGGAAGGGGGGTGGGTGGGAAGGGTTTCGGGCTTCAAAATTCTGGGGGAGGGGGCCAAGCGGCGGTTCTAAAAGGCATTAAAGCGGAAACGAATCAAATCAAGGGGAGGCTGAAAAAATGAATGGGGAA\t????ABBBDDDDDDDDFGGGGFFHHE-,@5>C)))2)9*:)*,*3)8C)*).'''**1?E*:0****08'8'5;G'''0**))'''''')**1:C*)*****1***)''.'*)))*)1?***1**1?'8'')**0****'0*****19)0C\tAS:i:0\tXS:i:0\r\n",
      "SRR1705860.246630\t4\t*\t0\t0\t*\t*\t0\t0\tCTATTAACCATGAAGACTATCATTGCTTTGAGCTACAT\tAAAAABBBEEEEEEDEGGGGGGIIIIIIIIIIIIIIII\tAS:i:0\tXS:i:0\r\n",
      "SRR1705860.246795\t4\t*\t0\t0\t*\t*\t0\t0\tGAATATAGCTCAAAGCAATGATAGTCTTCATGGTTAATAGAATTATCC\t?????BBBBDDDDDDDFFFFFFHFCFHHIIGHHCGHIDHGHIIIIHHI\tAS:i:0\tXS:i:0\r\n",
      "SRR1705860.246832\t4\t*\t0\t0\t*\t*\t0\t0\tGGCTTGCGGGCGTTCATGCTCAGAAACAAGGTTGGGACAAGCACTTCCAGGCTTACACAGTCAGAAATCGAAACGTACTCTCAACAGTTCGCTTAGGCATGGAAGTTTTGCGGCATTCTGACTACACAATAACAAGGGAAGACTTACTCGT\t5,,,,5=5=<<@+5<@;.;..A-EEECBCEDAACCC+A@E,+E=AC@A--A+E-55AEEEEEED-CEEEE+=+<++++4DC++6D=DDE+DDD++;9:*DDD*9*2<DD:@@::)8;@;*8***0;E6?E=(;6<666-((-/(66?(;9/\tAS:i:0\tXS:i:0\r\n",
      "SRR1705860.246871\t4\t*\t0\t0\t*\t*\t0\t0\tCCGTCAAGATGGTAGGATGTTCGGGGGAAAGCGCAAGACGCGACTCGGGGGTATCTTCGAATAAGTGTTCGTGTATGATGTTGTTGGATGATGTGTAGTGAAGATGGTGATGTGG\t???????BDDBB<<<BFFFFFFEHHCH@?CFHHHHDHHFDC>CCHHF@CDH4=F;DE;=;@DEBE,;;CBEEE;BBB,;B;CECEFFFFFFFF1::AA??EEFE?AE?ACEE0AC\tAS:i:0\tXS:i:0\r\n",
      "SRR1705860.246975\t4\t*\t0\t0\t*\t*\t0\t0\tGCCTTCCTCCCTCCCCCTCCCCTCCCCCCCAATGACAAACCATTCCAAACTTTCCCCCTTCTCCCCTCCTTTTCCTTTCCCCTCTCTTTTCCTCCCCCCCCTCTGAAATTGGCAACAGG\t?????BBBDDDDDDDDFF666@6@E665>5577855-55CF@GHGHFF-555AFGHHH>,AFEHHHFHH5A5CDFGCGFGHH?DFFFFFFFFFFHHEFEEE@BCEFEFEFFCEEFFF:*\tAS:i:0\tXS:i:0\r\n",
      "SRR1705860.246982\t4\t*\t0\t0\t*\t*\t0\t0\tTCTTTCCCCCTCTTTTTCCTCCTTTCCCTTTCTTCTTTCTCCTCTTCCTTCCTTTTCCCCTTTTTTTTCTCTTTTTCCCCCCCCCTTTCCCCTCTCCTCCTCCTTTTCCCTCCTTTTCTTCTTTTTTTTTTCACACAATTTTTTCATTT\t?????BBBDDDD<BBDGFGGGGFHFHIHIIIIICFHICFHHHIIIEGHDAAFHIDGHHHHIIIEGCDHIHHGHHIHFIIHHHHHHGG?FFGFEEGGGGGGEEEGGGHGGGHGCAEE>CGGGGGGCEGGGGGCC:??ECEEG:??EGGEG\tAS:i:0\tXS:i:0\r\n",
      "SRR1705860.247012\t4\t*\t0\t0\t*\t*\t0\t0\tCTATTAACCATGAAGACTATCATTGCTTTGAGCTACATTCTATGTCTGGTTTTCGCTCAAAAACTTCCTGGAAATGACAAC\tAAAAABBBDDDDDDDDGGGGGGIIIIIIIIHIIIIIHIIIIIIIHIIHIAEHIIHHHIHIIIIHHHIIIHIIIIIIIIIII\tAS:i:0\tXS:i:0\r\n",
      "SRR1705860.247038\t4\t*\t0\t0\t*\t*\t0\t0\tCTATTAACCATGAAGACTATCATTGCTTTGAGCTACATTCTAT\tAAAAABBBEEEEDDDEGGGGGGIIIIIIIIIIIIIIIIIIIII\tAS:i:0\tXS:i:0\r\n",
      "SRR1705860.247275\t4\t*\t0\t0\t*\t*\t0\t0\tGGATAATTCTATTAACCATGAAGACTATCATTGCTTTGAGC\t?9???BBBDDDDDDDDFFFFF?FHHHHHFFGGAFGHHDGFH\tAS:i:0\tXS:i:0\r\n",
      "SRR1705860.247453\t4\t*\t0\t0\t*\t*\t0\t0\tGCTCTCCTTCTTTCTCTTTTCCCCCTTCTTCTTTTCCCTTCCCCCCTCCTCTCCCTTCTCTTCCCTTTTCTTTTCCTCCCCCTTCTTTCTCCCTTTTTTCCTCTTTTCCCCTAGATGCTTACTCTTCTAGGGATATTCCTTACT\t?????BBBDDDD5?<?FFFFFFIHHHII8CGGHIIGGHEEFHHIHHHH,7CCCFHIIHEFGHHHIIAFCCFAFHGHHIIFEECHHIHIIHIHHFDCDGHHHHHHH@CFFFHHHFFFFFFFFFFFDEDEFFFFFFFFFCEEEFFF\tAS:i:0\tXS:i:0\r\n",
      "SRR1705860.247612\t4\t*\t0\t0\t*\t*\t0\t0\tGTCATACAACGCGGAGCTTCTTGTTGCCCCTGTCT\t?????BBBDDB@DDDDDFFFFFHFHIIIIFHIFHC\tAS:i:0\tXS:i:0\r\n",
      "SRR1705860.247765\t4\t*\t0\t0\t*\t*\t0\t0\tATTCTATTAACCATGAAGACTATCATTGCTTTGAGCTACATTCTATGTCTGGTTTTCGCTCAAAAACTTCCTGGAAATGACAAC\t?AAA?BBBDDDDDDEEGGGGGGIIIIIIIIIIIIIIIIIIIIIIIIIHIIHIEHHIHHHHHHHHIHHIIIIIIIHHIIIHIIHH\tAS:i:0\tXS:i:0\r\n",
      "SRR1705860.247892\t4\t*\t0\t0\t*\t*\t0\t0\tGCAGAAATCTCGTATGCCGTCTTCTGCTTGAAAAAAAAAACAAAAAAAAACCACGCACCAAAACAGGGACCATCCCGAGTATATGAACACCAACTGTTTCAAAATAGCCCCAAAATTTGAACATGCACCCAAACAAACAACCAGAAACAGA\t?????BB<BBDBDDDDBFDCCCFH;CFFFFFHHHHHC++5,555AFCC*<++++5+)))4+4+,44?@++++44D***)*43;,,33,,,*3*3,,4,33,4,33=**0*)))*****0***00000*08C**.*00.?**).0?*:*0*0\tAS:i:0\tXS:i:0\r\n",
      "SRR1705860.248230\t4\t*\t0\t0\t*\t*\t0\t0\tGAACAATTTGACAAATTGTACATTTGCTGTCTCTT\t????ABBBDDDDDDDDGGFGGGIIIIIHIFHHGHH\tAS:i:0\tXS:i:0\r\n",
      "SRR1705860.248814\t4\t*\t0\t0\t*\t*\t0\t0\tGCATTTGAGTGCATTAATTAAAAACACCCTTGTTTCTACTAATA\tAAAAABBBDDDDDDEEGGGGGGIIHIIHHIIIHIIIIIIIIIII\tAS:i:0\tXS:i:0\r\n",
      "SRR1705860.248889\t4\t*\t0\t0\t*\t*\t0\t0\tGTGCCGGATGAGGCAACTAGTGACCTAGGGGGGGATAATCCCGGACATCCTTAGGGGAAAAAGTTGTTGGGGGCTTGGTTTCGTTCACCAAAAGGGCCCAATTCCTTGTTTTGGAAGCAATCACATTGAGGGTCTCCAAATAAGGCTCCAT\tAAAAAAABDEDDDDDDGGGGGGIIIII/CF++<'')*1**1*0''''*****1*1?4)8***)1******.4''.?')*0**)0**1**1?EG*88)8;)*0C**1**1?E*8.C*0?**********01?8)**1?*1*********)**\tAS:i:0\tXS:i:0\r\n",
      "SRR1705860.249070\t4\t*\t0\t0\t*\t*\t0\t0\tCGCTCGTGTACAAAGTACAAGTCACTACCAACGAAGAATACAACGGTCAGCAGATGTCTAAAACACATAGGGAGGCTTGTCCAGATCAGTCTTACCTGATGGTGGCTTGTACGAGGACTTCGTAAGGAGCCATGCCTAG\tAAAAAAAADDDDDEEDGGGGGGIHIIGIIIIHHIIHHIGHIIIIHHHHHIIIHIHIEHIIIIIHIIIIIIHIIHHHIIHFHIHIHIHFGGHHHHFHHHHHHHCFHHHFHD?CF@@A@DBEEEBDDDEDC<EACEGCCCA\tAS:i:0\tXS:i:0\r\n",
      "SRR1705860.249081\t4\t*\t0\t0\t*\t*\t0\t0\tTCCATAATCAGAGCCAGGTGTACGGACAGCGGCATCAGTGTCGTTGAAGACTAGGCCACTTTTCCTCCCAACTTTCCTAACATCAAGATGTTGCGCTTCCGCCTTATTTCGTTGCCGTCCGGGCGTCATG\t??AAABBBDDDDDDDDGGGGGFHHHHHHHHHHHHHIHFHHIHHHHIIIIIIIIIIHHHIIHIIHIIIIIIIHIHIIHIIIHIHIFHHHHHHFHFHHHHHHHHGGEGGGGGEGGGGGBEGGGGGGE?GGGG\tAS:i:0\tXS:i:0\r\n",
      "SRR1705860.249203\t4\t*\t0\t0\t*\t*\t0\t0\tGCAGGGGATAATTCTATTAACCATGAAGACTATCATTGCTTTGAGCTACATTCTATGTCTGGTTTTCGCTCAAAAACTTCCTGGAAATGAC\t5<,5,=<=@@@@AA@AECEEECECEEE.CCACFFCFGFDGFGFDEDFCFFCCAFGGGDFFFE8CED-CEDDDFF@EE@FFFFFEEFBEEEE\tAS:i:0\tXS:i:0\r\n",
      "SRR1705860.249443\t4\t*\t0\t0\t*\t*\t0\t0\tTGCTGTTGTCATTTCCAGGAAGTTTTTGAGCGAAAACCAGACATAGAATGTAGCTCAAAGCAATGATAGTCTTCATGGTTAATAG\t??AAABBBDEDDDEDDGGGGGGHHIIIHHHIHHHHHIHIIIIHIIIIIIIHIIIIIIIIIIIIIIIIIIHIHIIIIIIHIIIIII\tAS:i:0\tXS:i:0\r\n",
      "SRR1705860.249526\t4\t*\t0\t0\t*\t*\t0\t0\tTTCTATTAACCATGAAGACTATCATTGCTTTGAGC\t????<BBBBBBBB<BB;FCC?FFHHF;>FH??AEG\tAS:i:0\tXS:i:0\r\n",
      "SRR1705860.249598\t4\t*\t0\t0\t*\t*\t0\t0\tTTACTCTGCTAGGGATATTCCTTACTCCTGTCTCT\t?????BBBB9<BDD?BFFF?FFHHHFHEHFGDGGD\tAS:i:0\tXS:i:0\r\n",
      "SRR1705860.249607\t4\t*\t0\t0\t*\t*\t0\t0\tGTTGTCATTTCCAGGAAGTTTTTGAGCGAAAACCAGACATAGAATGTAGCTCAAAGCAATGATAGTCTTCATGGTTAATAGAAT\t?????BBBDDDDDDDDGGGGGGIHHIIHHHHHHHFHIIFHHIIIIIGHHIHHIIIHHIIIIIBEHDCGHIHHIIGHFHIGHIIH\tAS:i:0\tXS:i:0\r\n",
      "SRR1705860.249637\t4\t*\t0\t0\t*\t*\t0\t0\tCCGCCAACATGGCCGACCAAAAAACAAAATACTCAGTCTTGCTCCCCACCTACAACGAACGCCGCAACTTGCCCATCATCATCTGGCTCCTCGCTCAAACCTTCGACACCCAGAACCTCGACTGGGAAGTCATCATTGTCGACGACGGCT\t?A??AAB?DDDDDDDDGGGGGGIHHHIIIIIIHHIIIIIIIIHIIIHIHHFHHIHICFHHCHHHHHHHHHHHHHFBFHFHHHHGGGGGGGGGEGDDEDGGGGCC;CCEEECCACCCGCEEGGGG?CECE:CE::0??CCECGDD284<2<\tAS:i:0\tXS:i:0\r\n",
      "SRR1705860.249798\t4\t*\t0\t0\t*\t*\t0\t0\tTTGCATTTGAGTGCATTAATTAAAAACACCCTTGTTTCTACTAATACGAGA\tAA?AABBBDEDDDDDDGGGGGGIIIIHIIHHIIIHIIIIHIIIIHHHHIHH\tAS:i:0\tXS:i:0\r\n",
      "SRR1705860.249865\t4\t*\t0\t0\t*\t*\t0\t0\tTTTCCAGGAAGTTTTTGAGCGAAAACCAGACATAGAATGTAGCTCAAAGCAATGATAGTCTTCATGGTTAATAGAAT\t?????BBBDDDDDDDDFCFFFFHHHFHIHHFHFFHHHII?EFEGHHIIGHIIIIHHHFAFFFHHIHIGHHHHHHGHI\tAS:i:0\tXS:i:0\r\n"
     ]
    }
   ],
   "source": [
    "!samtools view -f4 5_align_control/control_alignment3.bam"
   ]
  }
 ],
 "metadata": {
  "kernelspec": {
   "display_name": "Python 3",
   "language": "python",
   "name": "python3"
  },
  "language_info": {
   "codemirror_mode": {
    "name": "ipython",
    "version": 3
   },
   "file_extension": ".py",
   "mimetype": "text/x-python",
   "name": "python",
   "nbconvert_exporter": "python",
   "pygments_lexer": "ipython3",
   "version": "3.8.10"
  }
 },
 "nbformat": 4,
 "nbformat_minor": 5
}
